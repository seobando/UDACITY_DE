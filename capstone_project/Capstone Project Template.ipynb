{
 "cells": [
  {
   "cell_type": "markdown",
   "metadata": {
    "editable": true
   },
   "source": [
    "# Project Title - Prepare data for finding insights in the immigrant's behavior in the U.S in April of 2016\n",
    "### Data Engineering Capstone Project"
   ]
  },
  {
   "cell_type": "markdown",
   "metadata": {
    "editable": true
   },
   "source": [
    "#### Project Summary\n",
    "- This project is about using PySPARK to clean, organize, transform and integrate a series of datasets using a Star Schema approach to enable the insights finding in the data. "
   ]
  },
  {
   "cell_type": "markdown",
   "metadata": {
    "editable": true
   },
   "source": [
    "The project follows the follow steps:\n",
    "* Step 1: Scope the Project and Gather Data\n",
    "* Step 2: Explore and Assess the Data\n",
    "* Step 3: Define the Data Model\n",
    "* Step 4: Run ETL to Model the Data\n",
    "* Step 5: Complete Project Write Up"
   ]
  },
  {
   "cell_type": "markdown",
   "metadata": {
    "editable": true
   },
   "source": [
    "## Setup"
   ]
  },
  {
   "cell_type": "code",
   "execution_count": 1,
   "metadata": {
    "editable": true
   },
   "outputs": [],
   "source": [
    "from pyspark.sql import SparkSession\n",
    "\n",
    "spark = SparkSession.builder.config(\"spark.jars.packages\",\"saurfang:spark-sas7bdat:2.0.0-s_2.11\").enableHiveSupport().getOrCreate()"
   ]
  },
  {
   "cell_type": "markdown",
   "metadata": {
    "editable": true
   },
   "source": [
    "## Libraries"
   ]
  },
  {
   "cell_type": "code",
   "execution_count": 2,
   "metadata": {
    "editable": true
   },
   "outputs": [],
   "source": [
    "# Do all imports and installs here\n",
    "import pandas as pd\n",
    "import numpy as np"
   ]
  },
  {
   "cell_type": "code",
   "execution_count": 3,
   "metadata": {
    "editable": true
   },
   "outputs": [],
   "source": [
    "from pyspark.sql.functions import *\n",
    "from pyspark.sql import Window\n",
    "from pyspark.sql.types import *"
   ]
  },
  {
   "cell_type": "markdown",
   "metadata": {
    "editable": true
   },
   "source": [
    "## Functions"
   ]
  },
  {
   "cell_type": "code",
   "execution_count": 4,
   "metadata": {
    "editable": true
   },
   "outputs": [],
   "source": [
    "def EDA(df):\n",
    "    '''\n",
    "    Description:\n",
    "    This function get the main information for an EDA\n",
    "    \n",
    "    param df: is the dataframe required for the EDA\n",
    "    '''\n",
    "    \n",
    "    # Get number of rows\n",
    "    rows = df.count()\n",
    "    # Get summary statistics\n",
    "    summary_statistics = df.summary().toPandas()\n",
    "    # Transpose to see variables statistics per row\n",
    "    summary_statistics = summary_statistics.set_index(\"summary\").T\n",
    "    # Count number of nulls\n",
    "    summary_statistics[\"nulls\"] =  rows - summary_statistics[\"count\"].astype(\"int64\")\n",
    "    # Estimate percentage of nulls\n",
    "    summary_statistics[\"% nulls\"] = (summary_statistics[\"nulls\"].astype(\"int64\")/rows)*100\n",
    "    \n",
    "    return summary_statistics"
   ]
  },
  {
   "cell_type": "code",
   "execution_count": 5,
   "metadata": {
    "editable": true
   },
   "outputs": [],
   "source": [
    "def groups(df,list_):\n",
    "    '''\n",
    "    Description:\n",
    "    This function creates unique groups of values per specific columns of a dataframe organized in a dictionary\n",
    "    \n",
    "    param df: dataframe\n",
    "    param list: the specific columns to form the groups\n",
    "    '''        \n",
    "    \n",
    "    dict_ = {}\n",
    "    \n",
    "    for var in list_:\n",
    "        value = df.select(var).distinct().agg(collect_list(var)).collect()[0][0]\n",
    "        dict_[var] = value\n",
    "    \n",
    "    return dict_"
   ]
  },
  {
   "cell_type": "code",
   "execution_count": 6,
   "metadata": {
    "editable": true
   },
   "outputs": [],
   "source": [
    "def intersection_groups(key_a, key_b,dict_a,dict_b):\n",
    "    '''\n",
    "    Description:\n",
    "    This function get the intersection between two groups as a dataframe\n",
    "    \n",
    "    param key_a: selected variables of the group a\n",
    "    param key_b: selected variables of the group b\n",
    "    param dict_a: dictionary of group a\n",
    "    param dict_b: dictionary of group b\n",
    "    '''    \n",
    "    \n",
    "    data = []\n",
    "    \n",
    "    for a in key_a:\n",
    "        for b in key_b:\n",
    "            coincidence = len(list(set(dict_a[a]) & set(dict_b[b]))) \n",
    "            if coincidence > 0:\n",
    "                row = [a,len(dict_a[a]),b,len(dict_b[b]),coincidence]\n",
    "                data.append(row)\n",
    "                \n",
    "    df = pd.DataFrame(data,columns=[\"var_a\",\"len_list_a\",\"var_b\",\"len_list_b\",\"coincidence\"])            \n",
    "    df = df.sort_values(by=\"coincidence\",ascending = False)\n",
    "\n",
    "    return df"
   ]
  },
  {
   "cell_type": "code",
   "execution_count": 7,
   "metadata": {
    "editable": true
   },
   "outputs": [],
   "source": [
    "def transform_rules(df,rules,var):\n",
    "    '''\n",
    "    Description:\n",
    "    This function homologate values between dictionary tables and the fact table\n",
    "    \n",
    "    param df: original dataset\n",
    "    param rules: dataset with the rules and the equivalent key to the df\n",
    "    param var: the name of the var or key to apply the transformation\n",
    "    '''    \n",
    "    df = df.join(rules,df[var] == rules['_c0'],\"left\")\n",
    "    new_name = \"new_\" + str(var)\n",
    "    df = df.withColumnRenamed(\"_c1\",new_name).drop(\"_c0\")\n",
    "    \n",
    "    return df"
   ]
  },
  {
   "cell_type": "markdown",
   "metadata": {
    "editable": true
   },
   "source": [
    "### Step 1: Scope the Project and Gather Data"
   ]
  },
  {
   "cell_type": "markdown",
   "metadata": {
    "editable": true
   },
   "source": [
    "#### Scope \n",
    "- This project starts with an exploratory analysis of the dataset with the greatest amout of rows, because normally is the fact table, then passing to a series of the analysis process to find keys and respective aggregations and calculation on the rest of the datasets, also normally dimension tables and ends with the integrations of all the datasets in one table for Business Intelligence, using the star schema."
   ]
  },
  {
   "cell_type": "markdown",
   "metadata": {
    "editable": true
   },
   "source": [
    "#### Data description and gathering"
   ]
  },
  {
   "cell_type": "markdown",
   "metadata": {
    "editable": true
   },
   "source": [
    "- **I94 Immigration Data (immigration):** This data comes from the [US National Tourism and Trade Office](https://travel.trade.gov/research/reports/i94/historical/2016.html). Includes 3096313 rows and 28 columns. \n",
    "- **I94 SAS Labels Descriptions**: A data dictionary for the \"I94 Inmigration Data\".\n",
    "- **U.S. City Demographics (cities_demographics )**: This data comes from [OpenSoft](https://public.opendatasoft.com/explore/dataset/us-cities-demographics/export/). Includes 2891 rows and 12 columns.\n",
    "- **Airport codes (airport_codes):** This is a simple table of airport codes and corresponding cities that comes from [here](https://datahub.io/core/airport-codes#data). Includes 55075 rows and 12 columns."
   ]
  },
  {
   "cell_type": "code",
   "execution_count": 8,
   "metadata": {
    "editable": true
   },
   "outputs": [],
   "source": [
    "# Data Gathering\n",
    "## I94 Immigration Data\n",
    "path_sas_data = \"sas_data\" \n",
    "## I94 Immigration Data Sample\n",
    "path_immigration_data = \"immigration_data_sample.csv\"\n",
    "## Us cities demographics\n",
    "path_us_cities_demographics = \"us-cities-demographics.csv\"\n",
    "## Airport codes\n",
    "path_airport_codes = \"airport-codes_csv.csv\""
   ]
  },
  {
   "cell_type": "code",
   "execution_count": 9,
   "metadata": {
    "editable": true
   },
   "outputs": [],
   "source": [
    "## I94 Immigration Data\n",
    "immigration = spark.read.parquet(path_sas_data)"
   ]
  },
  {
   "cell_type": "code",
   "execution_count": 10,
   "metadata": {
    "editable": true
   },
   "outputs": [],
   "source": [
    "## Us cities demographics\n",
    "cities_demographics = (spark.read\n",
    "                       .option(\"inferschema\",\"true\")\n",
    "                       .option(\"header\",\"true\")\n",
    "                       .option(\"sep\",\";\")\n",
    "                       .csv(path_us_cities_demographics)\n",
    "                      )"
   ]
  },
  {
   "cell_type": "code",
   "execution_count": 11,
   "metadata": {
    "editable": true
   },
   "outputs": [],
   "source": [
    "## Airport codes\n",
    "airport_codes = (spark\n",
    "                 .read\n",
    "                 .option(\"inferschema\",\"true\")\n",
    "                 .option(\"header\",\"true\")\n",
    "                 .csv(path_airport_codes)\n",
    "                )"
   ]
  },
  {
   "cell_type": "code",
   "execution_count": 12,
   "metadata": {
    "editable": true
   },
   "outputs": [],
   "source": [
    "## Dictionary rules\n",
    "rules_1 = spark.read.csv(\"rules_immigrants/1_I94CIT_&_I94RES.txt\",sep=\";\",header=None)\n",
    "rules_2 = spark.read.csv(\"rules_immigrants/2_I94PORT.txt\",sep=\";\",header=None)\n",
    "rules_3 = spark.read.csv(\"rules_immigrants/3_I94MODE.txt\",sep=\";\",header=None)\n",
    "rules_4 = spark.read.csv(\"rules_immigrants/4_I94ADDR.txt\",sep=\";\",header=None)\n",
    "rules_5 = spark.read.csv(\"rules_immigrants/5_I94VISA.txt\",sep=\";\",header=None)"
   ]
  },
  {
   "cell_type": "markdown",
   "metadata": {
    "editable": true
   },
   "source": [
    "### Step 2: Explore and Assess the Data"
   ]
  },
  {
   "cell_type": "code",
   "execution_count": 13,
   "metadata": {
    "editable": true
   },
   "outputs": [
    {
     "data": {
      "text/html": [
       "<div>\n",
       "<style scoped>\n",
       "    .dataframe tbody tr th:only-of-type {\n",
       "        vertical-align: middle;\n",
       "    }\n",
       "\n",
       "    .dataframe tbody tr th {\n",
       "        vertical-align: top;\n",
       "    }\n",
       "\n",
       "    .dataframe thead th {\n",
       "        text-align: right;\n",
       "    }\n",
       "</style>\n",
       "<table border=\"1\" class=\"dataframe\">\n",
       "  <thead>\n",
       "    <tr style=\"text-align: right;\">\n",
       "      <th>summary</th>\n",
       "      <th>count</th>\n",
       "      <th>mean</th>\n",
       "      <th>stddev</th>\n",
       "      <th>min</th>\n",
       "      <th>25%</th>\n",
       "      <th>50%</th>\n",
       "      <th>75%</th>\n",
       "      <th>max</th>\n",
       "      <th>nulls</th>\n",
       "      <th>% nulls</th>\n",
       "    </tr>\n",
       "  </thead>\n",
       "  <tbody>\n",
       "    <tr>\n",
       "      <th>cicid</th>\n",
       "      <td>3096313</td>\n",
       "      <td>3078651.879075533</td>\n",
       "      <td>1763278.0997499449</td>\n",
       "      <td>6.0</td>\n",
       "      <td>1577480.0</td>\n",
       "      <td>3103635.0</td>\n",
       "      <td>4654348.0</td>\n",
       "      <td>6102785.0</td>\n",
       "      <td>0</td>\n",
       "      <td>0.000000</td>\n",
       "    </tr>\n",
       "    <tr>\n",
       "      <th>i94yr</th>\n",
       "      <td>3096313</td>\n",
       "      <td>2016.0</td>\n",
       "      <td>0.0</td>\n",
       "      <td>2016.0</td>\n",
       "      <td>2016.0</td>\n",
       "      <td>2016.0</td>\n",
       "      <td>2016.0</td>\n",
       "      <td>2016.0</td>\n",
       "      <td>0</td>\n",
       "      <td>0.000000</td>\n",
       "    </tr>\n",
       "    <tr>\n",
       "      <th>i94mon</th>\n",
       "      <td>3096313</td>\n",
       "      <td>4.0</td>\n",
       "      <td>0.0</td>\n",
       "      <td>4.0</td>\n",
       "      <td>4.0</td>\n",
       "      <td>4.0</td>\n",
       "      <td>4.0</td>\n",
       "      <td>4.0</td>\n",
       "      <td>0</td>\n",
       "      <td>0.000000</td>\n",
       "    </tr>\n",
       "    <tr>\n",
       "      <th>i94cit</th>\n",
       "      <td>3096313</td>\n",
       "      <td>304.9069344733559</td>\n",
       "      <td>210.02688853063205</td>\n",
       "      <td>101.0</td>\n",
       "      <td>135.0</td>\n",
       "      <td>213.0</td>\n",
       "      <td>512.0</td>\n",
       "      <td>999.0</td>\n",
       "      <td>0</td>\n",
       "      <td>0.000000</td>\n",
       "    </tr>\n",
       "    <tr>\n",
       "      <th>i94res</th>\n",
       "      <td>3096313</td>\n",
       "      <td>303.28381949757664</td>\n",
       "      <td>208.58321292789535</td>\n",
       "      <td>101.0</td>\n",
       "      <td>131.0</td>\n",
       "      <td>213.0</td>\n",
       "      <td>504.0</td>\n",
       "      <td>760.0</td>\n",
       "      <td>0</td>\n",
       "      <td>0.000000</td>\n",
       "    </tr>\n",
       "    <tr>\n",
       "      <th>i94port</th>\n",
       "      <td>3096313</td>\n",
       "      <td>None</td>\n",
       "      <td>None</td>\n",
       "      <td>5KE</td>\n",
       "      <td>None</td>\n",
       "      <td>None</td>\n",
       "      <td>None</td>\n",
       "      <td>YSL</td>\n",
       "      <td>0</td>\n",
       "      <td>0.000000</td>\n",
       "    </tr>\n",
       "    <tr>\n",
       "      <th>arrdate</th>\n",
       "      <td>3096313</td>\n",
       "      <td>20559.84854179794</td>\n",
       "      <td>8.777339475317723</td>\n",
       "      <td>20545.0</td>\n",
       "      <td>20552.0</td>\n",
       "      <td>20560.0</td>\n",
       "      <td>20567.0</td>\n",
       "      <td>20574.0</td>\n",
       "      <td>0</td>\n",
       "      <td>0.000000</td>\n",
       "    </tr>\n",
       "    <tr>\n",
       "      <th>i94mode</th>\n",
       "      <td>3096074</td>\n",
       "      <td>1.0736897761487614</td>\n",
       "      <td>0.5158963131657106</td>\n",
       "      <td>1.0</td>\n",
       "      <td>1.0</td>\n",
       "      <td>1.0</td>\n",
       "      <td>1.0</td>\n",
       "      <td>9.0</td>\n",
       "      <td>239</td>\n",
       "      <td>0.007719</td>\n",
       "    </tr>\n",
       "    <tr>\n",
       "      <th>i94addr</th>\n",
       "      <td>2943721</td>\n",
       "      <td>51.652482269503544</td>\n",
       "      <td>42.97906231370983</td>\n",
       "      <td>..</td>\n",
       "      <td>10.0</td>\n",
       "      <td>40.0</td>\n",
       "      <td>99.0</td>\n",
       "      <td>ZU</td>\n",
       "      <td>152592</td>\n",
       "      <td>4.928184</td>\n",
       "    </tr>\n",
       "    <tr>\n",
       "      <th>depdate</th>\n",
       "      <td>2953856</td>\n",
       "      <td>20573.95283554784</td>\n",
       "      <td>29.35696848166157</td>\n",
       "      <td>15176.0</td>\n",
       "      <td>20561.0</td>\n",
       "      <td>20570.0</td>\n",
       "      <td>20579.0</td>\n",
       "      <td>45427.0</td>\n",
       "      <td>142457</td>\n",
       "      <td>4.600859</td>\n",
       "    </tr>\n",
       "    <tr>\n",
       "      <th>i94bir</th>\n",
       "      <td>3095511</td>\n",
       "      <td>41.767614458485205</td>\n",
       "      <td>17.42026053458727</td>\n",
       "      <td>-3.0</td>\n",
       "      <td>30.0</td>\n",
       "      <td>41.0</td>\n",
       "      <td>54.0</td>\n",
       "      <td>114.0</td>\n",
       "      <td>802</td>\n",
       "      <td>0.025902</td>\n",
       "    </tr>\n",
       "    <tr>\n",
       "      <th>i94visa</th>\n",
       "      <td>3096313</td>\n",
       "      <td>1.8453925685161674</td>\n",
       "      <td>0.3983910200540999</td>\n",
       "      <td>1.0</td>\n",
       "      <td>2.0</td>\n",
       "      <td>2.0</td>\n",
       "      <td>2.0</td>\n",
       "      <td>3.0</td>\n",
       "      <td>0</td>\n",
       "      <td>0.000000</td>\n",
       "    </tr>\n",
       "    <tr>\n",
       "      <th>count</th>\n",
       "      <td>3096313</td>\n",
       "      <td>1.0</td>\n",
       "      <td>0.0</td>\n",
       "      <td>1.0</td>\n",
       "      <td>1.0</td>\n",
       "      <td>1.0</td>\n",
       "      <td>1.0</td>\n",
       "      <td>1.0</td>\n",
       "      <td>0</td>\n",
       "      <td>0.000000</td>\n",
       "    </tr>\n",
       "    <tr>\n",
       "      <th>dtadfile</th>\n",
       "      <td>3096312</td>\n",
       "      <td>2.0160424766168267E7</td>\n",
       "      <td>50.01513453988029</td>\n",
       "      <td>20130811</td>\n",
       "      <td>2.0160409E7</td>\n",
       "      <td>2.0160417E7</td>\n",
       "      <td>2.0160424E7</td>\n",
       "      <td>20160919</td>\n",
       "      <td>1</td>\n",
       "      <td>0.000032</td>\n",
       "    </tr>\n",
       "    <tr>\n",
       "      <th>visapost</th>\n",
       "      <td>1215063</td>\n",
       "      <td>999.0</td>\n",
       "      <td>0.0</td>\n",
       "      <td>999</td>\n",
       "      <td>999.0</td>\n",
       "      <td>999.0</td>\n",
       "      <td>999.0</td>\n",
       "      <td>ZZZ</td>\n",
       "      <td>1881250</td>\n",
       "      <td>60.757746</td>\n",
       "    </tr>\n",
       "    <tr>\n",
       "      <th>occup</th>\n",
       "      <td>8126</td>\n",
       "      <td>885.675</td>\n",
       "      <td>264.6551105950961</td>\n",
       "      <td>049</td>\n",
       "      <td>855.0</td>\n",
       "      <td>999.0</td>\n",
       "      <td>999.0</td>\n",
       "      <td>WTR</td>\n",
       "      <td>3088187</td>\n",
       "      <td>99.737559</td>\n",
       "    </tr>\n",
       "    <tr>\n",
       "      <th>entdepa</th>\n",
       "      <td>3096075</td>\n",
       "      <td>None</td>\n",
       "      <td>None</td>\n",
       "      <td>A</td>\n",
       "      <td>None</td>\n",
       "      <td>None</td>\n",
       "      <td>None</td>\n",
       "      <td>Z</td>\n",
       "      <td>238</td>\n",
       "      <td>0.007687</td>\n",
       "    </tr>\n",
       "    <tr>\n",
       "      <th>entdepd</th>\n",
       "      <td>2957884</td>\n",
       "      <td>None</td>\n",
       "      <td>None</td>\n",
       "      <td>D</td>\n",
       "      <td>None</td>\n",
       "      <td>None</td>\n",
       "      <td>None</td>\n",
       "      <td>W</td>\n",
       "      <td>138429</td>\n",
       "      <td>4.470769</td>\n",
       "    </tr>\n",
       "    <tr>\n",
       "      <th>entdepu</th>\n",
       "      <td>392</td>\n",
       "      <td>None</td>\n",
       "      <td>None</td>\n",
       "      <td>U</td>\n",
       "      <td>None</td>\n",
       "      <td>None</td>\n",
       "      <td>None</td>\n",
       "      <td>Y</td>\n",
       "      <td>3095921</td>\n",
       "      <td>99.987340</td>\n",
       "    </tr>\n",
       "    <tr>\n",
       "      <th>matflag</th>\n",
       "      <td>2957884</td>\n",
       "      <td>None</td>\n",
       "      <td>None</td>\n",
       "      <td>M</td>\n",
       "      <td>None</td>\n",
       "      <td>None</td>\n",
       "      <td>None</td>\n",
       "      <td>M</td>\n",
       "      <td>138429</td>\n",
       "      <td>4.470769</td>\n",
       "    </tr>\n",
       "    <tr>\n",
       "      <th>biryear</th>\n",
       "      <td>3095511</td>\n",
       "      <td>1974.2323855415148</td>\n",
       "      <td>17.420260534589556</td>\n",
       "      <td>1902.0</td>\n",
       "      <td>1962.0</td>\n",
       "      <td>1975.0</td>\n",
       "      <td>1986.0</td>\n",
       "      <td>2019.0</td>\n",
       "      <td>802</td>\n",
       "      <td>0.025902</td>\n",
       "    </tr>\n",
       "    <tr>\n",
       "      <th>dtaddto</th>\n",
       "      <td>3095836</td>\n",
       "      <td>8291120.333841449</td>\n",
       "      <td>1656502.4244925722</td>\n",
       "      <td>/   183D</td>\n",
       "      <td>7102016.0</td>\n",
       "      <td>7252016.0</td>\n",
       "      <td>1.0132016E7</td>\n",
       "      <td>D/S</td>\n",
       "      <td>477</td>\n",
       "      <td>0.015405</td>\n",
       "    </tr>\n",
       "    <tr>\n",
       "      <th>gender</th>\n",
       "      <td>2682044</td>\n",
       "      <td>None</td>\n",
       "      <td>None</td>\n",
       "      <td>F</td>\n",
       "      <td>None</td>\n",
       "      <td>None</td>\n",
       "      <td>None</td>\n",
       "      <td>X</td>\n",
       "      <td>414269</td>\n",
       "      <td>13.379429</td>\n",
       "    </tr>\n",
       "    <tr>\n",
       "      <th>insnum</th>\n",
       "      <td>113708</td>\n",
       "      <td>4131.050016327899</td>\n",
       "      <td>8821.743471773654</td>\n",
       "      <td>0</td>\n",
       "      <td>3680.0</td>\n",
       "      <td>3872.0</td>\n",
       "      <td>3945.0</td>\n",
       "      <td>YM0167</td>\n",
       "      <td>2982605</td>\n",
       "      <td>96.327632</td>\n",
       "    </tr>\n",
       "    <tr>\n",
       "      <th>airline</th>\n",
       "      <td>3012686</td>\n",
       "      <td>59.477601493233784</td>\n",
       "      <td>172.6333995206175</td>\n",
       "      <td>*FF</td>\n",
       "      <td>2.0</td>\n",
       "      <td>2.0</td>\n",
       "      <td>2.0</td>\n",
       "      <td>ZZ</td>\n",
       "      <td>83627</td>\n",
       "      <td>2.700857</td>\n",
       "    </tr>\n",
       "    <tr>\n",
       "      <th>admnum</th>\n",
       "      <td>3096313</td>\n",
       "      <td>7.082885011150484E10</td>\n",
       "      <td>2.2154415947558968E10</td>\n",
       "      <td>0.0</td>\n",
       "      <td>5.6035214733E10</td>\n",
       "      <td>5.9360818033E10</td>\n",
       "      <td>9.350985333E10</td>\n",
       "      <td>9.991556593E10</td>\n",
       "      <td>0</td>\n",
       "      <td>0.000000</td>\n",
       "    </tr>\n",
       "    <tr>\n",
       "      <th>fltno</th>\n",
       "      <td>3076764</td>\n",
       "      <td>1360.2463696420555</td>\n",
       "      <td>5852.676345633695</td>\n",
       "      <td>00000</td>\n",
       "      <td>101.0</td>\n",
       "      <td>408.0</td>\n",
       "      <td>903.0</td>\n",
       "      <td>ZZZ</td>\n",
       "      <td>19549</td>\n",
       "      <td>0.631364</td>\n",
       "    </tr>\n",
       "    <tr>\n",
       "      <th>visatype</th>\n",
       "      <td>3096313</td>\n",
       "      <td>None</td>\n",
       "      <td>None</td>\n",
       "      <td>B1</td>\n",
       "      <td>None</td>\n",
       "      <td>None</td>\n",
       "      <td>None</td>\n",
       "      <td>WT</td>\n",
       "      <td>0</td>\n",
       "      <td>0.000000</td>\n",
       "    </tr>\n",
       "  </tbody>\n",
       "</table>\n",
       "</div>"
      ],
      "text/plain": [
       "summary     count                  mean                 stddev       min  \\\n",
       "cicid     3096313     3078651.879075533     1763278.0997499449       6.0   \n",
       "i94yr     3096313                2016.0                    0.0    2016.0   \n",
       "i94mon    3096313                   4.0                    0.0       4.0   \n",
       "i94cit    3096313     304.9069344733559     210.02688853063205     101.0   \n",
       "i94res    3096313    303.28381949757664     208.58321292789535     101.0   \n",
       "i94port   3096313                  None                   None       5KE   \n",
       "arrdate   3096313     20559.84854179794      8.777339475317723   20545.0   \n",
       "i94mode   3096074    1.0736897761487614     0.5158963131657106       1.0   \n",
       "i94addr   2943721    51.652482269503544      42.97906231370983        ..   \n",
       "depdate   2953856     20573.95283554784      29.35696848166157   15176.0   \n",
       "i94bir    3095511    41.767614458485205      17.42026053458727      -3.0   \n",
       "i94visa   3096313    1.8453925685161674     0.3983910200540999       1.0   \n",
       "count     3096313                   1.0                    0.0       1.0   \n",
       "dtadfile  3096312  2.0160424766168267E7      50.01513453988029  20130811   \n",
       "visapost  1215063                 999.0                    0.0       999   \n",
       "occup        8126               885.675      264.6551105950961       049   \n",
       "entdepa   3096075                  None                   None         A   \n",
       "entdepd   2957884                  None                   None         D   \n",
       "entdepu       392                  None                   None         U   \n",
       "matflag   2957884                  None                   None         M   \n",
       "biryear   3095511    1974.2323855415148     17.420260534589556    1902.0   \n",
       "dtaddto   3095836     8291120.333841449     1656502.4244925722  /   183D   \n",
       "gender    2682044                  None                   None         F   \n",
       "insnum     113708     4131.050016327899      8821.743471773654         0   \n",
       "airline   3012686    59.477601493233784      172.6333995206175       *FF   \n",
       "admnum    3096313  7.082885011150484E10  2.2154415947558968E10       0.0   \n",
       "fltno     3076764    1360.2463696420555      5852.676345633695     00000   \n",
       "visatype  3096313                  None                   None        B1   \n",
       "\n",
       "summary               25%              50%             75%             max  \\\n",
       "cicid           1577480.0        3103635.0       4654348.0       6102785.0   \n",
       "i94yr              2016.0           2016.0          2016.0          2016.0   \n",
       "i94mon                4.0              4.0             4.0             4.0   \n",
       "i94cit              135.0            213.0           512.0           999.0   \n",
       "i94res              131.0            213.0           504.0           760.0   \n",
       "i94port              None             None            None             YSL   \n",
       "arrdate           20552.0          20560.0         20567.0         20574.0   \n",
       "i94mode               1.0              1.0             1.0             9.0   \n",
       "i94addr              10.0             40.0            99.0              ZU   \n",
       "depdate           20561.0          20570.0         20579.0         45427.0   \n",
       "i94bir               30.0             41.0            54.0           114.0   \n",
       "i94visa               2.0              2.0             2.0             3.0   \n",
       "count                 1.0              1.0             1.0             1.0   \n",
       "dtadfile      2.0160409E7      2.0160417E7     2.0160424E7        20160919   \n",
       "visapost            999.0            999.0           999.0             ZZZ   \n",
       "occup               855.0            999.0           999.0             WTR   \n",
       "entdepa              None             None            None               Z   \n",
       "entdepd              None             None            None               W   \n",
       "entdepu              None             None            None               Y   \n",
       "matflag              None             None            None               M   \n",
       "biryear            1962.0           1975.0          1986.0          2019.0   \n",
       "dtaddto         7102016.0        7252016.0     1.0132016E7             D/S   \n",
       "gender               None             None            None               X   \n",
       "insnum             3680.0           3872.0          3945.0          YM0167   \n",
       "airline               2.0              2.0             2.0              ZZ   \n",
       "admnum    5.6035214733E10  5.9360818033E10  9.350985333E10  9.991556593E10   \n",
       "fltno               101.0            408.0           903.0             ZZZ   \n",
       "visatype             None             None            None              WT   \n",
       "\n",
       "summary     nulls    % nulls  \n",
       "cicid           0   0.000000  \n",
       "i94yr           0   0.000000  \n",
       "i94mon          0   0.000000  \n",
       "i94cit          0   0.000000  \n",
       "i94res          0   0.000000  \n",
       "i94port         0   0.000000  \n",
       "arrdate         0   0.000000  \n",
       "i94mode       239   0.007719  \n",
       "i94addr    152592   4.928184  \n",
       "depdate    142457   4.600859  \n",
       "i94bir        802   0.025902  \n",
       "i94visa         0   0.000000  \n",
       "count           0   0.000000  \n",
       "dtadfile        1   0.000032  \n",
       "visapost  1881250  60.757746  \n",
       "occup     3088187  99.737559  \n",
       "entdepa       238   0.007687  \n",
       "entdepd    138429   4.470769  \n",
       "entdepu   3095921  99.987340  \n",
       "matflag    138429   4.470769  \n",
       "biryear       802   0.025902  \n",
       "dtaddto       477   0.015405  \n",
       "gender     414269  13.379429  \n",
       "insnum    2982605  96.327632  \n",
       "airline     83627   2.700857  \n",
       "admnum          0   0.000000  \n",
       "fltno       19549   0.631364  \n",
       "visatype        0   0.000000  "
      ]
     },
     "execution_count": 13,
     "metadata": {},
     "output_type": "execute_result"
    }
   ],
   "source": [
    "imminigration_eda = EDA(immigration)\n",
    "imminigration_eda"
   ]
  },
  {
   "cell_type": "markdown",
   "metadata": {
    "editable": true
   },
   "source": [
    "**Which variables don't have good amaount of information?**"
   ]
  },
  {
   "cell_type": "code",
   "execution_count": 14,
   "metadata": {
    "editable": true
   },
   "outputs": [
    {
     "data": {
      "text/plain": [
       "['visapost', 'occup', 'entdepu', 'insnum']"
      ]
     },
     "execution_count": 14,
     "metadata": {},
     "output_type": "execute_result"
    }
   ],
   "source": [
    "imminigration_null=imminigration_eda[imminigration_eda[\"% nulls\"]>50].index.tolist()\n",
    "imminigration_null"
   ]
  },
  {
   "cell_type": "markdown",
   "metadata": {
    "editable": true
   },
   "source": [
    "**Which variables could have statistical value?**"
   ]
  },
  {
   "cell_type": "markdown",
   "metadata": {
    "editable": true
   },
   "source": [
    "- 'cicid': NOT, it seems to be just identification but is not clear in the dictionary.\n",
    "- 'i94yr': NOT, is the year of the data, from 2016 only, so there is not evolution and is from 5 years today.\n",
    "- 'i94mon': NOT, is the month, but only 4 or April.\n",
    "- 'i94cit': This is a categorical value but there's a need to transform to something more human-readable.\n",
    "- 'i94res': This is a categorical value but there's a need to transform to something more human-readable.\n",
    "- 'i94port': This is a categorical value but there's a need to transform to something more human-readable.\n",
    "- 'arrdate': This is a date but is not correctly formated.\n",
    "- 'i94mode': it seems that is model, not mode, and appears to be the way which the immigrant use to arrive at the USA. this could be an interesting variable for analysis but also requires transformation.\n",
    "- 'i94addr': This is a categorical value but there's a need to transform to something more human-readable.\n",
    "- 'depdate': This is oppositive of depdate, for only one year, maybe will be interesting to see in average how many time the immigrants states in the U.S.\n",
    "- 'i94bir': I guess that is the age of the immigrant\n",
    "- 'i94visa': this has to be key, is another categorical variable that is at 100% and defines which is the type of visa but is represented as a code, so there's a need to transform it to something more readable.\n",
    "- 'count': NOT, is just a constant.\n",
    "- 'dtadfile': NOT, It says that CIC does not use.\n",
    "- 'visapost': NOT, It says that CIC does not use.\n",
    "- 'occup': NOT, It says that CIC does not use.\n",
    "- 'entdepa': NOT, It says that CIC does not use.\n",
    "- 'entdepd': NOT, It says that CIC does not use.\n",
    "- 'entdepu': NOT, It says that CIC does not use.\n",
    "- 'matflag': NOT, it seems to be a constant.\n",
    "- 'biryear': There is a column age, maybe there's a need to verify.\n",
    "- 'dtaddto': NOT, It says that CIC does not use.\n",
    "- 'gender': Yes!.\n",
    "- 'insnum': This is not clear.\n",
    "- 'airline': This is the airline code, which could be used to determine which is the preferred airline of the immigrants depending on.\n",
    "- 'admnum': NOT, is an identifier.\n",
    "- 'fltno': maybe it could be used to complement data about the fly of the immigrant.\n",
    "- 'visatype': it could be complementary for the i94visa."
   ]
  },
  {
   "cell_type": "markdown",
   "metadata": {
    "editable": true
   },
   "source": [
    "**Which could be the possible keys between the dataframes?**"
   ]
  },
  {
   "cell_type": "code",
   "execution_count": 15,
   "metadata": {
    "editable": true
   },
   "outputs": [],
   "source": [
    "## Immigrants\n",
    "immigrants_keys = [\"i94cit\",\"i94res\",\"i94port\",\"i94addr\"]\n",
    "immigrants_groups = groups(immigration,immigrants_keys)"
   ]
  },
  {
   "cell_type": "code",
   "execution_count": 16,
   "metadata": {
    "editable": true
   },
   "outputs": [],
   "source": [
    "## Demographics\n",
    "demographic_keys = [\"City\",\"State\",\"State Code\"]\n",
    "demographic_groups = groups(cities_demographics,demographic_keys)"
   ]
  },
  {
   "cell_type": "code",
   "execution_count": 17,
   "metadata": {
    "editable": true
   },
   "outputs": [],
   "source": [
    "## Airport_code\n",
    "## remove the US- from \n",
    "airport_codes_keys = [\"continent\",\"iso_country\",\"iso_region\",\"municipality\",\"gps_code\",\"iata_code\",\"local_code\"]\n",
    "airport_codes_groups = groups(airport_codes,airport_codes_keys)"
   ]
  },
  {
   "cell_type": "code",
   "execution_count": 18,
   "metadata": {
    "editable": true
   },
   "outputs": [
    {
     "data": {
      "text/html": [
       "<div>\n",
       "<style scoped>\n",
       "    .dataframe tbody tr th:only-of-type {\n",
       "        vertical-align: middle;\n",
       "    }\n",
       "\n",
       "    .dataframe tbody tr th {\n",
       "        vertical-align: top;\n",
       "    }\n",
       "\n",
       "    .dataframe thead th {\n",
       "        text-align: right;\n",
       "    }\n",
       "</style>\n",
       "<table border=\"1\" class=\"dataframe\">\n",
       "  <thead>\n",
       "    <tr style=\"text-align: right;\">\n",
       "      <th></th>\n",
       "      <th>var_a</th>\n",
       "      <th>len_list_a</th>\n",
       "      <th>var_b</th>\n",
       "      <th>len_list_b</th>\n",
       "      <th>coincidence</th>\n",
       "    </tr>\n",
       "  </thead>\n",
       "  <tbody>\n",
       "    <tr>\n",
       "      <th>0</th>\n",
       "      <td>i94addr</td>\n",
       "      <td>457</td>\n",
       "      <td>State Code</td>\n",
       "      <td>49</td>\n",
       "      <td>49</td>\n",
       "    </tr>\n",
       "  </tbody>\n",
       "</table>\n",
       "</div>"
      ],
      "text/plain": [
       "     var_a  len_list_a       var_b  len_list_b  coincidence\n",
       "0  i94addr         457  State Code          49           49"
      ]
     },
     "execution_count": 18,
     "metadata": {},
     "output_type": "execute_result"
    }
   ],
   "source": [
    "# Intersections between immigrants and demographics\n",
    "intersection_set_1 = intersection_groups(immigrants_keys, demographic_keys,immigrants_groups,demographic_groups)\n",
    "intersection_set_1.head()"
   ]
  },
  {
   "cell_type": "code",
   "execution_count": 19,
   "metadata": {
    "editable": true
   },
   "outputs": [
    {
     "data": {
      "text/html": [
       "<div>\n",
       "<style scoped>\n",
       "    .dataframe tbody tr th:only-of-type {\n",
       "        vertical-align: middle;\n",
       "    }\n",
       "\n",
       "    .dataframe tbody tr th {\n",
       "        vertical-align: top;\n",
       "    }\n",
       "\n",
       "    .dataframe thead th {\n",
       "        text-align: right;\n",
       "    }\n",
       "</style>\n",
       "<table border=\"1\" class=\"dataframe\">\n",
       "  <thead>\n",
       "    <tr style=\"text-align: right;\">\n",
       "      <th></th>\n",
       "      <th>var_a</th>\n",
       "      <th>len_list_a</th>\n",
       "      <th>var_b</th>\n",
       "      <th>len_list_b</th>\n",
       "      <th>coincidence</th>\n",
       "    </tr>\n",
       "  </thead>\n",
       "  <tbody>\n",
       "    <tr>\n",
       "      <th>1</th>\n",
       "      <td>i94port</td>\n",
       "      <td>299</td>\n",
       "      <td>iata_code</td>\n",
       "      <td>9042</td>\n",
       "      <td>251</td>\n",
       "    </tr>\n",
       "    <tr>\n",
       "      <th>2</th>\n",
       "      <td>i94port</td>\n",
       "      <td>299</td>\n",
       "      <td>local_code</td>\n",
       "      <td>27436</td>\n",
       "      <td>201</td>\n",
       "    </tr>\n",
       "    <tr>\n",
       "      <th>4</th>\n",
       "      <td>i94addr</td>\n",
       "      <td>457</td>\n",
       "      <td>iso_country</td>\n",
       "      <td>244</td>\n",
       "      <td>171</td>\n",
       "    </tr>\n",
       "    <tr>\n",
       "      <th>3</th>\n",
       "      <td>i94addr</td>\n",
       "      <td>457</td>\n",
       "      <td>continent</td>\n",
       "      <td>7</td>\n",
       "      <td>7</td>\n",
       "    </tr>\n",
       "    <tr>\n",
       "      <th>0</th>\n",
       "      <td>i94port</td>\n",
       "      <td>299</td>\n",
       "      <td>gps_code</td>\n",
       "      <td>40850</td>\n",
       "      <td>2</td>\n",
       "    </tr>\n",
       "  </tbody>\n",
       "</table>\n",
       "</div>"
      ],
      "text/plain": [
       "     var_a  len_list_a        var_b  len_list_b  coincidence\n",
       "1  i94port         299    iata_code        9042          251\n",
       "2  i94port         299   local_code       27436          201\n",
       "4  i94addr         457  iso_country         244          171\n",
       "3  i94addr         457    continent           7            7\n",
       "0  i94port         299     gps_code       40850            2"
      ]
     },
     "execution_count": 19,
     "metadata": {},
     "output_type": "execute_result"
    }
   ],
   "source": [
    "# Interceptions between immigrants and airport codes\n",
    "intersection_set_2 = intersection_groups(immigrants_keys, airport_codes_keys,immigrants_groups,airport_codes_groups)\n",
    "intersection_set_2.head()"
   ]
  },
  {
   "cell_type": "code",
   "execution_count": 20,
   "metadata": {
    "editable": true
   },
   "outputs": [
    {
     "data": {
      "text/html": [
       "<div>\n",
       "<style scoped>\n",
       "    .dataframe tbody tr th:only-of-type {\n",
       "        vertical-align: middle;\n",
       "    }\n",
       "\n",
       "    .dataframe tbody tr th {\n",
       "        vertical-align: top;\n",
       "    }\n",
       "\n",
       "    .dataframe thead th {\n",
       "        text-align: right;\n",
       "    }\n",
       "</style>\n",
       "<table border=\"1\" class=\"dataframe\">\n",
       "  <thead>\n",
       "    <tr style=\"text-align: right;\">\n",
       "      <th></th>\n",
       "      <th>var_a</th>\n",
       "      <th>len_list_a</th>\n",
       "      <th>var_b</th>\n",
       "      <th>len_list_b</th>\n",
       "      <th>coincidence</th>\n",
       "    </tr>\n",
       "  </thead>\n",
       "  <tbody>\n",
       "    <tr>\n",
       "      <th>1</th>\n",
       "      <td>municipality</td>\n",
       "      <td>27133</td>\n",
       "      <td>City</td>\n",
       "      <td>567</td>\n",
       "      <td>482</td>\n",
       "    </tr>\n",
       "    <tr>\n",
       "      <th>0</th>\n",
       "      <td>iso_country</td>\n",
       "      <td>244</td>\n",
       "      <td>State Code</td>\n",
       "      <td>49</td>\n",
       "      <td>27</td>\n",
       "    </tr>\n",
       "    <tr>\n",
       "      <th>2</th>\n",
       "      <td>municipality</td>\n",
       "      <td>27133</td>\n",
       "      <td>State</td>\n",
       "      <td>49</td>\n",
       "      <td>16</td>\n",
       "    </tr>\n",
       "  </tbody>\n",
       "</table>\n",
       "</div>"
      ],
      "text/plain": [
       "          var_a  len_list_a       var_b  len_list_b  coincidence\n",
       "1  municipality       27133        City         567          482\n",
       "0   iso_country         244  State Code          49           27\n",
       "2  municipality       27133       State          49           16"
      ]
     },
     "execution_count": 20,
     "metadata": {},
     "output_type": "execute_result"
    }
   ],
   "source": [
    "# Interceptios between demographics and airport codes\n",
    "intersection_set_3 = intersection_groups(airport_codes_keys, demographic_keys,airport_codes_groups,demographic_groups)\n",
    "intersection_set_3.head()"
   ]
  },
  {
   "cell_type": "markdown",
   "metadata": {
    "editable": true
   },
   "source": [
    "The posible joins could be:\n",
    " - immigrants left join demographics on 'i94addr' == 'State Code'\n",
    " - immigrants left join airport codes is not that clear, maybe there is a need to remove values to enhance the match.\n",
    " - demographics join airport_codes 'municipality' == 'City'"
   ]
  },
  {
   "cell_type": "code",
   "execution_count": 21,
   "metadata": {
    "editable": true
   },
   "outputs": [
    {
     "name": "stdout",
     "output_type": "stream",
     "text": [
      "+-----+-------------+--------------------+------------+---------+-----------+----------+------------+--------+---------+----------+--------------------+\n",
      "|ident|         type|                name|elevation_ft|continent|iso_country|iso_region|municipality|gps_code|iata_code|local_code|         coordinates|\n",
      "+-----+-------------+--------------------+------------+---------+-----------+----------+------------+--------+---------+----------+--------------------+\n",
      "|  00A|     heliport|   Total Rf Heliport|          11|       NA|         US|     US-PA|    Bensalem|     00A|     null|       00A|-74.9336013793945...|\n",
      "| 00AA|small_airport|Aero B Ranch Airport|        3435|       NA|         US|     US-KS|       Leoti|    00AA|     null|      00AA|-101.473911, 38.7...|\n",
      "| 00AK|small_airport|        Lowell Field|         450|       NA|         US|     US-AK|Anchor Point|    00AK|     null|      00AK|-151.695999146, 5...|\n",
      "| 00AL|small_airport|        Epps Airpark|         820|       NA|         US|     US-AL|     Harvest|    00AL|     null|      00AL|-86.7703018188476...|\n",
      "| 00AR|       closed|Newport Hospital ...|         237|       NA|         US|     US-AR|     Newport|    null|     null|      null| -91.254898, 35.6087|\n",
      "| 00AS|small_airport|      Fulton Airport|        1100|       NA|         US|     US-OK|        Alex|    00AS|     null|      00AS|-97.8180194, 34.9...|\n",
      "| 00AZ|small_airport|      Cordes Airport|        3810|       NA|         US|     US-AZ|      Cordes|    00AZ|     null|      00AZ|-112.165000915527...|\n",
      "| 00CA|small_airport|Goldstone /Gts/ A...|        3038|       NA|         US|     US-CA|     Barstow|    00CA|     null|      00CA|-116.888000488, 3...|\n",
      "| 00CL|small_airport| Williams Ag Airport|          87|       NA|         US|     US-CA|       Biggs|    00CL|     null|      00CL|-121.763427, 39.4...|\n",
      "| 00CN|     heliport|Kitchen Creek Hel...|        3350|       NA|         US|     US-CA| Pine Valley|    00CN|     null|      00CN|-116.4597417, 32....|\n",
      "| 00CO|       closed|          Cass Field|        4830|       NA|         US|     US-CO|  Briggsdale|    null|     null|      null|-104.344002, 40.6...|\n",
      "| 00FA|small_airport| Grass Patch Airport|          53|       NA|         US|     US-FL|    Bushnell|    00FA|     null|      00FA|-82.2190017700195...|\n",
      "| 00FD|     heliport|  Ringhaver Heliport|          25|       NA|         US|     US-FL|   Riverview|    00FD|     null|      00FD|-82.3453979492187...|\n",
      "| 00FL|small_airport|   River Oak Airport|          35|       NA|         US|     US-FL|  Okeechobee|    00FL|     null|      00FL|-80.9692001342773...|\n",
      "| 00GA|small_airport|    Lt World Airport|         700|       NA|         US|     US-GA|    Lithonia|    00GA|     null|      00GA|-84.0682983398437...|\n",
      "| 00GE|     heliport|    Caffrey Heliport|         957|       NA|         US|     US-GA|       Hiram|    00GE|     null|      00GE|-84.7339019775390...|\n",
      "| 00HI|     heliport|  Kaupulehu Heliport|          43|       NA|         US|     US-HI| Kailua/Kona|    00HI|     null|      00HI|-155.980233, 19.8...|\n",
      "| 00ID|small_airport|Delta Shores Airport|        2064|       NA|         US|     US-ID|  Clark Fork|    00ID|     null|      00ID|-116.213996887207...|\n",
      "| 00IG|small_airport|       Goltl Airport|        3359|       NA|         US|     US-KS|    McDonald|    00IG|     null|      00IG|-101.395994, 39.7...|\n",
      "| 00II|     heliport|Bailey Generation...|         600|       NA|         US|     US-IN|  Chesterton|    00II|     null|      00II|-87.122802734375,...|\n",
      "+-----+-------------+--------------------+------------+---------+-----------+----------+------------+--------+---------+----------+--------------------+\n",
      "only showing top 20 rows\n",
      "\n"
     ]
    }
   ],
   "source": [
    "## For the second observation:\n",
    "airport_codes.show()"
   ]
  },
  {
   "cell_type": "code",
   "execution_count": 22,
   "metadata": {
    "editable": true
   },
   "outputs": [],
   "source": [
    "### We can see that the ident, iso_region, the gpc_code and the local_code have some values before the real code of the variable, so I gonna remove this values and try to find I better match to the fact table.\n",
    "airport_codes = (airport_codes\n",
    "                 .withColumn(\"ident\",regexp_replace(col(\"ident\"),\"0\",\"\"))\n",
    "                 .withColumn(\"gps_code\",regexp_replace(col(\"gps_code\"),\"0\",\"\"))\n",
    "                 .withColumn(\"local_code\",regexp_replace(col(\"local_code\"),\"0\",\"\"))\n",
    "                 .withColumn(\"iso_region\",split(col(\"iso_region\"), '-')[1])\n",
    "                )"
   ]
  },
  {
   "cell_type": "code",
   "execution_count": 23,
   "metadata": {
    "editable": true
   },
   "outputs": [],
   "source": [
    "# We only care for the US data so\n",
    "airport_codes_us = airport_codes.where(col(\"iso_country\")==\"US\")"
   ]
  },
  {
   "cell_type": "code",
   "execution_count": 24,
   "metadata": {
    "editable": true
   },
   "outputs": [
    {
     "name": "stdout",
     "output_type": "stream",
     "text": [
      "+-----+-------------+--------------------+------------+---------+-----------+----------+------------+--------+---------+----------+--------------------+\n",
      "|ident|         type|                name|elevation_ft|continent|iso_country|iso_region|municipality|gps_code|iata_code|local_code|         coordinates|\n",
      "+-----+-------------+--------------------+------------+---------+-----------+----------+------------+--------+---------+----------+--------------------+\n",
      "|    A|     heliport|   Total Rf Heliport|          11|       NA|         US|        PA|    Bensalem|       A|     null|         A|-74.9336013793945...|\n",
      "|   AA|small_airport|Aero B Ranch Airport|        3435|       NA|         US|        KS|       Leoti|      AA|     null|        AA|-101.473911, 38.7...|\n",
      "|   AK|small_airport|        Lowell Field|         450|       NA|         US|        AK|Anchor Point|      AK|     null|        AK|-151.695999146, 5...|\n",
      "|   AL|small_airport|        Epps Airpark|         820|       NA|         US|        AL|     Harvest|      AL|     null|        AL|-86.7703018188476...|\n",
      "|   AR|       closed|Newport Hospital ...|         237|       NA|         US|        AR|     Newport|    null|     null|      null| -91.254898, 35.6087|\n",
      "|   AS|small_airport|      Fulton Airport|        1100|       NA|         US|        OK|        Alex|      AS|     null|        AS|-97.8180194, 34.9...|\n",
      "|   AZ|small_airport|      Cordes Airport|        3810|       NA|         US|        AZ|      Cordes|      AZ|     null|        AZ|-112.165000915527...|\n",
      "|   CA|small_airport|Goldstone /Gts/ A...|        3038|       NA|         US|        CA|     Barstow|      CA|     null|        CA|-116.888000488, 3...|\n",
      "|   CL|small_airport| Williams Ag Airport|          87|       NA|         US|        CA|       Biggs|      CL|     null|        CL|-121.763427, 39.4...|\n",
      "|   CN|     heliport|Kitchen Creek Hel...|        3350|       NA|         US|        CA| Pine Valley|      CN|     null|        CN|-116.4597417, 32....|\n",
      "|   CO|       closed|          Cass Field|        4830|       NA|         US|        CO|  Briggsdale|    null|     null|      null|-104.344002, 40.6...|\n",
      "|   FA|small_airport| Grass Patch Airport|          53|       NA|         US|        FL|    Bushnell|      FA|     null|        FA|-82.2190017700195...|\n",
      "|   FD|     heliport|  Ringhaver Heliport|          25|       NA|         US|        FL|   Riverview|      FD|     null|        FD|-82.3453979492187...|\n",
      "|   FL|small_airport|   River Oak Airport|          35|       NA|         US|        FL|  Okeechobee|      FL|     null|        FL|-80.9692001342773...|\n",
      "|   GA|small_airport|    Lt World Airport|         700|       NA|         US|        GA|    Lithonia|      GA|     null|        GA|-84.0682983398437...|\n",
      "|   GE|     heliport|    Caffrey Heliport|         957|       NA|         US|        GA|       Hiram|      GE|     null|        GE|-84.7339019775390...|\n",
      "|   HI|     heliport|  Kaupulehu Heliport|          43|       NA|         US|        HI| Kailua/Kona|      HI|     null|        HI|-155.980233, 19.8...|\n",
      "|   ID|small_airport|Delta Shores Airport|        2064|       NA|         US|        ID|  Clark Fork|      ID|     null|        ID|-116.213996887207...|\n",
      "|   IG|small_airport|       Goltl Airport|        3359|       NA|         US|        KS|    McDonald|      IG|     null|        IG|-101.395994, 39.7...|\n",
      "|   II|     heliport|Bailey Generation...|         600|       NA|         US|        IN|  Chesterton|      II|     null|        II|-87.122802734375,...|\n",
      "+-----+-------------+--------------------+------------+---------+-----------+----------+------------+--------+---------+----------+--------------------+\n",
      "only showing top 20 rows\n",
      "\n"
     ]
    }
   ],
   "source": [
    "airport_codes_us.show()"
   ]
  },
  {
   "cell_type": "code",
   "execution_count": 25,
   "metadata": {
    "editable": true
   },
   "outputs": [
    {
     "data": {
      "text/html": [
       "<div>\n",
       "<style scoped>\n",
       "    .dataframe tbody tr th:only-of-type {\n",
       "        vertical-align: middle;\n",
       "    }\n",
       "\n",
       "    .dataframe tbody tr th {\n",
       "        vertical-align: top;\n",
       "    }\n",
       "\n",
       "    .dataframe thead th {\n",
       "        text-align: right;\n",
       "    }\n",
       "</style>\n",
       "<table border=\"1\" class=\"dataframe\">\n",
       "  <thead>\n",
       "    <tr style=\"text-align: right;\">\n",
       "      <th></th>\n",
       "      <th>var_a</th>\n",
       "      <th>len_list_a</th>\n",
       "      <th>var_b</th>\n",
       "      <th>len_list_b</th>\n",
       "      <th>coincidence</th>\n",
       "    </tr>\n",
       "  </thead>\n",
       "  <tbody>\n",
       "    <tr>\n",
       "      <th>2</th>\n",
       "      <td>i94port</td>\n",
       "      <td>299</td>\n",
       "      <td>iata_code</td>\n",
       "      <td>2014</td>\n",
       "      <td>132</td>\n",
       "    </tr>\n",
       "    <tr>\n",
       "      <th>3</th>\n",
       "      <td>i94addr</td>\n",
       "      <td>457</td>\n",
       "      <td>ident</td>\n",
       "      <td>20489</td>\n",
       "      <td>97</td>\n",
       "    </tr>\n",
       "    <tr>\n",
       "      <th>6</th>\n",
       "      <td>i94addr</td>\n",
       "      <td>457</td>\n",
       "      <td>gps_code</td>\n",
       "      <td>19058</td>\n",
       "      <td>96</td>\n",
       "    </tr>\n",
       "    <tr>\n",
       "      <th>5</th>\n",
       "      <td>i94addr</td>\n",
       "      <td>457</td>\n",
       "      <td>iso_region</td>\n",
       "      <td>52</td>\n",
       "      <td>52</td>\n",
       "    </tr>\n",
       "    <tr>\n",
       "      <th>0</th>\n",
       "      <td>i94port</td>\n",
       "      <td>299</td>\n",
       "      <td>ident</td>\n",
       "      <td>20489</td>\n",
       "      <td>10</td>\n",
       "    </tr>\n",
       "    <tr>\n",
       "      <th>1</th>\n",
       "      <td>i94port</td>\n",
       "      <td>299</td>\n",
       "      <td>gps_code</td>\n",
       "      <td>19058</td>\n",
       "      <td>3</td>\n",
       "    </tr>\n",
       "    <tr>\n",
       "      <th>4</th>\n",
       "      <td>i94addr</td>\n",
       "      <td>457</td>\n",
       "      <td>iso_country</td>\n",
       "      <td>1</td>\n",
       "      <td>1</td>\n",
       "    </tr>\n",
       "  </tbody>\n",
       "</table>\n",
       "</div>"
      ],
      "text/plain": [
       "     var_a  len_list_a        var_b  len_list_b  coincidence\n",
       "2  i94port         299    iata_code        2014          132\n",
       "3  i94addr         457        ident       20489           97\n",
       "6  i94addr         457     gps_code       19058           96\n",
       "5  i94addr         457   iso_region          52           52\n",
       "0  i94port         299        ident       20489           10\n",
       "1  i94port         299     gps_code       19058            3\n",
       "4  i94addr         457  iso_country           1            1"
      ]
     },
     "execution_count": 25,
     "metadata": {},
     "output_type": "execute_result"
    }
   ],
   "source": [
    "## Now try again:\n",
    "airport_codes_keys = ['ident','iso_country','iso_region','gps_code','iata_code']\n",
    "airport_codes_groups = groups(airport_codes_us,airport_codes_keys)\n",
    "intersection_set_2 = intersection_groups(immigrants_keys, airport_codes_keys,immigrants_groups,airport_codes_groups)\n",
    "intersection_set_2"
   ]
  },
  {
   "cell_type": "code",
   "execution_count": 26,
   "metadata": {
    "editable": true
   },
   "outputs": [
    {
     "data": {
      "text/html": [
       "<div>\n",
       "<style scoped>\n",
       "    .dataframe tbody tr th:only-of-type {\n",
       "        vertical-align: middle;\n",
       "    }\n",
       "\n",
       "    .dataframe tbody tr th {\n",
       "        vertical-align: top;\n",
       "    }\n",
       "\n",
       "    .dataframe thead th {\n",
       "        text-align: right;\n",
       "    }\n",
       "</style>\n",
       "<table border=\"1\" class=\"dataframe\">\n",
       "  <thead>\n",
       "    <tr style=\"text-align: right;\">\n",
       "      <th></th>\n",
       "      <th>var_a</th>\n",
       "      <th>len_list_a</th>\n",
       "      <th>var_b</th>\n",
       "      <th>len_list_b</th>\n",
       "      <th>coincidence</th>\n",
       "    </tr>\n",
       "  </thead>\n",
       "  <tbody>\n",
       "    <tr>\n",
       "      <th>1</th>\n",
       "      <td>iso_region</td>\n",
       "      <td>52</td>\n",
       "      <td>State Code</td>\n",
       "      <td>49</td>\n",
       "      <td>48</td>\n",
       "    </tr>\n",
       "    <tr>\n",
       "      <th>0</th>\n",
       "      <td>ident</td>\n",
       "      <td>20489</td>\n",
       "      <td>State Code</td>\n",
       "      <td>49</td>\n",
       "      <td>44</td>\n",
       "    </tr>\n",
       "    <tr>\n",
       "      <th>2</th>\n",
       "      <td>gps_code</td>\n",
       "      <td>19058</td>\n",
       "      <td>State Code</td>\n",
       "      <td>49</td>\n",
       "      <td>44</td>\n",
       "    </tr>\n",
       "  </tbody>\n",
       "</table>\n",
       "</div>"
      ],
      "text/plain": [
       "        var_a  len_list_a       var_b  len_list_b  coincidence\n",
       "1  iso_region          52  State Code          49           48\n",
       "0       ident       20489  State Code          49           44\n",
       "2    gps_code       19058  State Code          49           44"
      ]
     },
     "execution_count": 26,
     "metadata": {},
     "output_type": "execute_result"
    }
   ],
   "source": [
    "## And try again\n",
    "intersection_set_3 = intersection_groups(airport_codes_keys, demographic_keys,airport_codes_groups,demographic_groups)\n",
    "intersection_set_3.head()"
   ]
  },
  {
   "cell_type": "markdown",
   "metadata": {
    "editable": true
   },
   "source": [
    "The posible joins could be:\n",
    " - immigrants left join demographics on 'i94addr' == 'State Code'\n",
    " - demographics join airport_codes 'iso_region' == 'State Code'"
   ]
  },
  {
   "cell_type": "markdown",
   "metadata": {
    "editable": true
   },
   "source": [
    "### Which could be the possible aggregations and calculation between the dimendional tables to add value to the fact table?"
   ]
  },
  {
   "cell_type": "code",
   "execution_count": 27,
   "metadata": {
    "editable": true
   },
   "outputs": [
    {
     "name": "stdout",
     "output_type": "stream",
     "text": [
      "+-------+----------+----------+---------------+-----------------+----------------+------------------+------------+----------------------+----------+--------------------+------+\n",
      "|   City|     State|Median Age|Male Population|Female Population|Total Population|Number of Veterans|Foreign-born|Average Household Size|State Code|                Race| Count|\n",
      "+-------+----------+----------+---------------+-----------------+----------------+------------------+------------+----------------------+----------+--------------------+------+\n",
      "|Abilene|     Texas|      31.3|          65212|            60664|          125876|              9367|        8129|                  2.64|        TX|American Indian a...|  1813|\n",
      "|Abilene|     Texas|      31.3|          65212|            60664|          125876|              9367|        8129|                  2.64|        TX|  Hispanic or Latino| 33222|\n",
      "|Abilene|     Texas|      31.3|          65212|            60664|          125876|              9367|        8129|                  2.64|        TX|               White| 95487|\n",
      "|Abilene|     Texas|      31.3|          65212|            60664|          125876|              9367|        8129|                  2.64|        TX|               Asian|  2929|\n",
      "|Abilene|     Texas|      31.3|          65212|            60664|          125876|              9367|        8129|                  2.64|        TX|Black or African-...| 14449|\n",
      "|  Akron|      Ohio|      38.1|          96886|           100667|          197553|             12878|       10024|                  2.24|        OH|               White|129192|\n",
      "|  Akron|      Ohio|      38.1|          96886|           100667|          197553|             12878|       10024|                  2.24|        OH|  Hispanic or Latino|  3684|\n",
      "|  Akron|      Ohio|      38.1|          96886|           100667|          197553|             12878|       10024|                  2.24|        OH|Black or African-...| 66551|\n",
      "|  Akron|      Ohio|      38.1|          96886|           100667|          197553|             12878|       10024|                  2.24|        OH|               Asian|  9033|\n",
      "|  Akron|      Ohio|      38.1|          96886|           100667|          197553|             12878|       10024|                  2.24|        OH|American Indian a...|  1845|\n",
      "|Alafaya|   Florida|      33.5|          39504|            45760|           85264|              4176|       15842|                  2.94|        FL|  Hispanic or Latino| 34897|\n",
      "|Alafaya|   Florida|      33.5|          39504|            45760|           85264|              4176|       15842|                  2.94|        FL|               Asian| 10336|\n",
      "|Alafaya|   Florida|      33.5|          39504|            45760|           85264|              4176|       15842|                  2.94|        FL|               White| 63666|\n",
      "|Alafaya|   Florida|      33.5|          39504|            45760|           85264|              4176|       15842|                  2.94|        FL|Black or African-...|  6577|\n",
      "|Alameda|California|      41.4|          37747|            40867|           78614|              4504|       18841|                  2.52|        CA|               White| 44232|\n",
      "|Alameda|California|      41.4|          37747|            40867|           78614|              4504|       18841|                  2.52|        CA|American Indian a...|  1329|\n",
      "|Alameda|California|      41.4|          37747|            40867|           78614|              4504|       18841|                  2.52|        CA|Black or African-...|  7364|\n",
      "|Alameda|California|      41.4|          37747|            40867|           78614|              4504|       18841|                  2.52|        CA|  Hispanic or Latino|  8265|\n",
      "|Alameda|California|      41.4|          37747|            40867|           78614|              4504|       18841|                  2.52|        CA|               Asian| 27984|\n",
      "| Albany|  New York|      32.8|          47627|            50825|           98452|              3643|       11948|                  2.08|        NY|  Hispanic or Latino|  9368|\n",
      "+-------+----------+----------+---------------+-----------------+----------------+------------------+------------+----------------------+----------+--------------------+------+\n",
      "only showing top 20 rows\n",
      "\n"
     ]
    }
   ],
   "source": [
    "# For demographics table, the City is the smaller level\n",
    "cities_demographics.sort(\"City\",ascending=True).show()"
   ]
  },
  {
   "cell_type": "code",
   "execution_count": 28,
   "metadata": {
    "editable": true
   },
   "outputs": [],
   "source": [
    "# The date is repeated by Race, so it appears that there are two tables one for population demographics and the other for races distribution\n",
    "demographics_popultation = cities_demographics.dropDuplicates(subset=[\"City\"]).drop(\"City\",\"Race\",\"Count\")"
   ]
  },
  {
   "cell_type": "code",
   "execution_count": 29,
   "metadata": {
    "editable": true
   },
   "outputs": [],
   "source": [
    "# Estimate aggregation per number column grouped by State and State Code\n",
    "demographics_popultation = (demographics_popultation\n",
    "                            .groupby(col(\"State Code\").alias(\"State Code\"),col(\"State\").alias(\"State\"))\n",
    "                            .agg(\n",
    "                                round(avg('Median Age'),0).alias(\"Average Median Age\")\n",
    "                                ,sum(\"Male Population\").alias(\"Male Population\")\n",
    "                                ,sum(\"Female Population\").alias(\"Female Population\")\n",
    "                                ,sum(\"Total Population\").alias(\"Total Population\")\n",
    "                                ,sum(\"Number of Veterans\").alias(\"Number of Veterans\")\n",
    "                                ,sum(\"Foreign-born\").alias(\"Foreign-born\")\n",
    "                                ,round(avg(\"Average Household Size\"),2).alias(\"Average Household Size\")\n",
    "                            ))"
   ]
  },
  {
   "cell_type": "code",
   "execution_count": 30,
   "metadata": {
    "editable": true
   },
   "outputs": [
    {
     "name": "stdout",
     "output_type": "stream",
     "text": [
      "+----------+--------------------+------------------+---------------+-----------------+----------------+------------------+------------+----------------------+\n",
      "|State Code|               State|Average Median Age|Male Population|Female Population|Total Population|Number of Veterans|Foreign-born|Average Household Size|\n",
      "+----------+--------------------+------------------+---------------+-----------------+----------------+------------------+------------+----------------------+\n",
      "|        MT|             Montana|              36.0|          87707|            93587|          181294|             13854|        5977|                  2.28|\n",
      "|        NC|      North Carolina|              34.0|        1322322|          1448219|         2770541|            133436|      357617|                  2.45|\n",
      "|        MD|            Maryland|              36.0|         627951|           684178|         1312129|             64143|      229794|                  2.66|\n",
      "|        CO|            Colorado|              36.0|        1276720|          1300079|         2576799|            162738|      271815|                  2.54|\n",
      "|        CT|         Connecticut|              34.0|         391277|           405821|          797098|             22076|      203538|                  2.66|\n",
      "|        IL|            Illinois|              36.0|        2218541|          2343771|         4562312|            146701|      941735|                  2.72|\n",
      "|        NJ|          New Jersey|              35.0|         705736|           723172|         1428908|             30195|      477028|                  2.97|\n",
      "|        DC|District of Columbia|              34.0|         319705|           352523|          672228|             25963|       95117|                  2.24|\n",
      "|        TN|           Tennessee|              34.0|        1031836|          1120724|         2152560|            117901|      181405|                  2.47|\n",
      "|        AR|            Arkansas|              33.0|         286479|           303400|          589879|             31704|       62108|                  2.53|\n",
      "|        LA|           Louisiana|              35.0|         626998|           673597|         1300595|             69771|       83419|                  2.47|\n",
      "|        AK|              Alaska|              32.0|         152945|           145750|          298695|             27492|       33258|                  2.77|\n",
      "|        CA|          California|              36.0|       12054440|         12318782|        24373222|            914853|     7243494|                   3.1|\n",
      "|        NM|          New Mexico|              38.0|         409010|           430032|          839042|             60474|       89112|                  2.59|\n",
      "|        UT|                Utah|              31.0|         530818|           519773|         1050591|             39671|      132819|                  3.18|\n",
      "|        MI|            Michigan|              37.0|        1056446|          1147014|         2203460|             99481|      249772|                  2.51|\n",
      "|        NY|            New York|              36.0|        4544293|          4963073|         9507366|            193970|     3408398|                  2.88|\n",
      "|        NH|       New Hampshire|              38.0|          97771|           100427|          198198|             11005|       27199|                  2.43|\n",
      "|        WA|          Washington|              35.0|        1245605|          1254502|         2500107|            153126|      440962|                   2.6|\n",
      "|        IA|                Iowa|              32.0|         361176|           372635|          733811|             39898|       63687|                  2.38|\n",
      "+----------+--------------------+------------------+---------------+-----------------+----------------+------------------+------------+----------------------+\n",
      "only showing top 20 rows\n",
      "\n"
     ]
    }
   ],
   "source": [
    "demographics_popultation.show()"
   ]
  },
  {
   "cell_type": "code",
   "execution_count": 31,
   "metadata": {
    "editable": true
   },
   "outputs": [],
   "source": [
    "# Selection of race distribucion data\n",
    "demographics_race = cities_demographics.select(\"State Code\",\"State\",\"Race\",\"Count\")"
   ]
  },
  {
   "cell_type": "code",
   "execution_count": 32,
   "metadata": {
    "editable": true
   },
   "outputs": [],
   "source": [
    "# Pivot per race to have one line data per State\n",
    "demographics_race = (demographics_race\n",
    "                     .groupby(col(\"State Code\").alias(\"State Code Race\"),col(\"State\").alias(\"State\"))\n",
    "                     .pivot(\"Race\")\n",
    "                     .agg(sum(\"Count\")))"
   ]
  },
  {
   "cell_type": "code",
   "execution_count": 33,
   "metadata": {
    "editable": true
   },
   "outputs": [
    {
     "name": "stdout",
     "output_type": "stream",
     "text": [
      "+---------------+--------------------+---------------------------------+-------+-------------------------+------------------+--------+\n",
      "|State Code Race|               State|American Indian and Alaska Native|  Asian|Black or African-American|Hispanic or Latino|   White|\n",
      "+---------------+--------------------+---------------------------------+-------+-------------------------+------------------+--------+\n",
      "|             MT|             Montana|                             9684|   4165|                     3349|             10000|  169026|\n",
      "|             NC|      North Carolina|                            35209| 178740|                  1029446|            354409| 1790136|\n",
      "|             MD|            Maryland|                            16155| 128839|                   573768|            138644|  594522|\n",
      "|             CO|            Colorado|                            62613| 148790|                   208043|            703722| 2463916|\n",
      "|             CT|         Connecticut|                            10729|  48311|                   231822|            309992|  505674|\n",
      "|             IL|            Illinois|                            35097| 374589|                  1130574|           1215659| 2620068|\n",
      "|             NJ|          New Jersey|                            11350| 116844|                   452202|            600437|  615083|\n",
      "|             DE|            Delaware|                              414|   1193|                    44182|              5516|   23743|\n",
      "|             DC|District of Columbia|                             6130|  35072|                   328786|             71129|  285402|\n",
      "|             AR|            Arkansas|                             9381|  22062|                   149608|             77813|  384733|\n",
      "|             LA|           Louisiana|                             8263|  38739|                   602377|             87133|  654578|\n",
      "|             TN|           Tennessee|                            17638|  73024|                   810758|            167962| 1253142|\n",
      "|             AK|              Alaska|                            36339|  36825|                    23107|             27261|  212696|\n",
      "|             CA|          California|                           401386|4543730|                  2047009|           9856464|14905129|\n",
      "|             NM|          New Mexico|                            42428|  32658|                    35853|            417026|  651564|\n",
      "|             UT|                Utah|                            18746|  48801|                    21893|            201695|  889798|\n",
      "|             MI|            Michigan|                            27962| 125172|                   853877|            149932| 1214721|\n",
      "|             NY|            New York|                           112816|1373373|                  2605008|           2730185| 4555686|\n",
      "|             NH|       New Hampshire|                             1213|  13989|                    11043|             22473|  174085|\n",
      "|             WA|          Washington|                            60248| 346995|                   187584|            324070| 1913484|\n",
      "+---------------+--------------------+---------------------------------+-------+-------------------------+------------------+--------+\n",
      "only showing top 20 rows\n",
      "\n"
     ]
    }
   ],
   "source": [
    "demographics_race.show()"
   ]
  },
  {
   "cell_type": "code",
   "execution_count": 34,
   "metadata": {
    "editable": true
   },
   "outputs": [],
   "source": [
    "# For airport code table the State Code is iso_region so"
   ]
  },
  {
   "cell_type": "code",
   "execution_count": 35,
   "metadata": {
    "editable": true
   },
   "outputs": [],
   "source": [
    "# In this case the only columns that can generate insighs could be iso_region, type and elevation_ft\n",
    "airports = (airport_codes_us\n",
    "            .select(\"iso_region\",\"type\",\"elevation_ft\")\n",
    "            .groupby(col(\"iso_region\").alias(\"iso_region\"))\n",
    "            .pivot(\"type\")\n",
    "            .agg(count(\"elevation_ft\")))\n",
    "# Fill null values with 0\n",
    "airports = airports.fillna(0)"
   ]
  },
  {
   "cell_type": "code",
   "execution_count": 36,
   "metadata": {
    "editable": true
   },
   "outputs": [
    {
     "name": "stdout",
     "output_type": "stream",
     "text": [
      "+----------+-----------+------+--------+-------------+--------------+-------------+-------------+\n",
      "|iso_region|balloonport|closed|heliport|large_airport|medium_airport|seaplane_base|small_airport|\n",
      "+----------+-----------+------+--------+-------------+--------------+-------------+-------------+\n",
      "|        SC|          0|     6|      36|            4|             9|            0|          160|\n",
      "|        AZ|          0|    18|     122|            3|            11|            0|          200|\n",
      "|        LA|          0|    29|     243|            4|            10|            6|          264|\n",
      "|        MN|          0|    56|      78|            4|             9|           73|          349|\n",
      "|        NJ|          7|    14|     292|            1|             8|            2|          107|\n",
      "|        DC|          0|     1|      18|            2|             0|            0|            0|\n",
      "|        OR|          0|    15|     117|            1|            17|            3|          339|\n",
      "|        VA|          1|    22|     166|            5|             9|            3|          297|\n",
      "|        RI|          1|     1|      21|            0|             2|            2|            8|\n",
      "|        WY|          0|     3|      29|            0|            15|            0|           80|\n",
      "|        KY|          0|    20|      72|            3|             9|            0|          153|\n",
      "|        NH|          0|     8|     104|            0|             5|           12|           49|\n",
      "|        MI|          1|    38|     123|            2|            16|            7|          362|\n",
      "|        NV|          0|     7|      33|            2|            10|            1|          101|\n",
      "|        WI|          0|    39|     105|            3|            10|           22|          445|\n",
      "|        ID|          1|    14|      56|            2|             9|            4|          227|\n",
      "|        CA|          0|    59|     458|           12|            55|            7|          480|\n",
      "|        CT|          1|     6|      96|            1|             4|            3|           51|\n",
      "|        NE|          0|    11|      38|            1|            11|            1|          247|\n",
      "|        MT|          0|    32|      41|            1|            16|            3|          238|\n",
      "+----------+-----------+------+--------+-------------+--------------+-------------+-------------+\n",
      "only showing top 20 rows\n",
      "\n"
     ]
    }
   ],
   "source": [
    "airports.show()"
   ]
  },
  {
   "cell_type": "markdown",
   "metadata": {
    "editable": true
   },
   "source": [
    "#### Clean the Data "
   ]
  },
  {
   "cell_type": "markdown",
   "metadata": {
    "editable": true
   },
   "source": [
    "##### Steps: - In the exploratory exercise with clean the dimensional tables and also create new ones, so for the fact table the process is:\n",
    "- 1. Drop variables with no significant amount of information.\n",
    "- 2. Drop variables with no statistical value or variables that don't explain or add value.\n",
    "- 3. Drop null rows for the key column"
   ]
  },
  {
   "cell_type": "code",
   "execution_count": 37,
   "metadata": {
    "editable": true
   },
   "outputs": [],
   "source": [
    "# Performing cleaning tasks for immigrants"
   ]
  },
  {
   "cell_type": "code",
   "execution_count": 38,
   "metadata": {
    "editable": true
   },
   "outputs": [],
   "source": [
    "# 1. Null values\n",
    "immigration = immigration.drop(*imminigration_null) "
   ]
  },
  {
   "cell_type": "code",
   "execution_count": 39,
   "metadata": {
    "editable": true
   },
   "outputs": [],
   "source": [
    "# 2. No added value\n",
    "imminigration_no_value = ['cicid','i94yr','i94mon','count','dtadfile','visapost','occup','entdepa','entdepd','entdepu','matflag','dtaddto','admnum','biryear']\n",
    "immigration = immigration.drop(*imminigration_no_value)"
   ]
  },
  {
   "cell_type": "code",
   "execution_count": 40,
   "metadata": {
    "editable": true
   },
   "outputs": [],
   "source": [
    "# 3. Drop null rows for the key column\n",
    "immigration = immigration.na.drop(subset=[\"i94addr\"])"
   ]
  },
  {
   "cell_type": "markdown",
   "metadata": {
    "editable": true
   },
   "source": [
    "### Step 3: Define the Data Model\n",
    "#### 3.1 Conceptual Data Model\n",
    "\n",
    "- Because this is a classical business intelligence problem in which we need to answer a series of questions from a set of databases, with no complex relations or grades of normalizations, the Star schema is an excellent choice.\n",
    "\n",
    "**Dimension Tables:**\n",
    "\n",
    "- **demographics_popultation:** State Code,State,Average Median Age,Male Population,Female Population,Total Population,Number of Veterans,Foreign-born,Average Household Size.\n",
    "- **demographics_race:** State Code Race, State,American Indian and Alaska Native,Asian,Black or African-American,Hispanic or Latino,Whitem.\n",
    "- **airports:** iso_region,balloonport,closed,heliport,large_airport,medium_airport,seaplane_base,small_airport.\n",
    "- **rules_1:** c_0, c_1('i94cit','i94res').\n",
    "- **rules_2:** c_0, c_1('i94port').\n",
    "- **rules_3:** c_0, c_1('i94mode').\n",
    "- **rules_4:** c_0, c_1('i94addr').\n",
    "- **rules_5:** c_0, c_1('i94visa').\n",
    "\n",
    "**Fact Table:**\n",
    "\n",
    "- **immigration:** i94cit,i94res,i94port,arrdate,i94mode,i94addr,depdate,i94bir,i94visa,gender,airline,fltno,visatype.\n",
    "\n",
    "#### 3.2 Mapping Out Data Pipelines\n",
    "List the steps necessary to pipeline the data into the chosen data model\n",
    "\n",
    "1. Organize the airport data according with the EDA.\n",
    "2. Separate the city_demographics table into demographics_popuplation and the demographics_race tables.\n",
    "3. Clean the immigran table.\n",
    "4. Add the dictionary rules to the immigran as a fact_table.\n",
    "5. Combine the demographics_population table with the demographics_race and the airport table as a dimensional_table.\n",
    "6. Integrate the fact_table with the dimensional_table as immigrants_df.\n",
    "7. Standarize column names."
   ]
  },
  {
   "cell_type": "markdown",
   "metadata": {
    "editable": true
   },
   "source": [
    "### Step 4: Run Pipelines to Model the Data \n",
    "#### 4.1 Create the data model\n",
    "Build the data pipelines to create the data model."
   ]
  },
  {
   "cell_type": "code",
   "execution_count": 41,
   "metadata": {
    "editable": true
   },
   "outputs": [],
   "source": [
    "# 1, 2 y 3 Done in the EDA"
   ]
  },
  {
   "cell_type": "code",
   "execution_count": 42,
   "metadata": {
    "editable": true
   },
   "outputs": [],
   "source": [
    "fact_table = immigration"
   ]
  },
  {
   "cell_type": "code",
   "execution_count": 43,
   "metadata": {
    "editable": true
   },
   "outputs": [],
   "source": [
    "# 4. Add the dictionary rules to the immigran table\n",
    "## Add rules to the immigration table\n",
    "rules = [rules_1,rules_1,rules_2,rules_3,rules_4,rules_5]\n",
    "variables = ['i94cit','i94res','i94port','i94mode','i94addr','i94visa']\n",
    "for i,var in enumerate(variables):\n",
    "    fact_table = transform_rules(fact_table,rules[i],var)"
   ]
  },
  {
   "cell_type": "code",
   "execution_count": 44,
   "metadata": {
    "editable": true
   },
   "outputs": [
    {
     "data": {
      "text/html": [
       "<div>\n",
       "<style scoped>\n",
       "    .dataframe tbody tr th:only-of-type {\n",
       "        vertical-align: middle;\n",
       "    }\n",
       "\n",
       "    .dataframe tbody tr th {\n",
       "        vertical-align: top;\n",
       "    }\n",
       "\n",
       "    .dataframe thead th {\n",
       "        text-align: right;\n",
       "    }\n",
       "</style>\n",
       "<table border=\"1\" class=\"dataframe\">\n",
       "  <thead>\n",
       "    <tr style=\"text-align: right;\">\n",
       "      <th></th>\n",
       "      <th>i94cit</th>\n",
       "      <th>i94res</th>\n",
       "      <th>i94port</th>\n",
       "      <th>arrdate</th>\n",
       "      <th>i94mode</th>\n",
       "      <th>i94addr</th>\n",
       "      <th>depdate</th>\n",
       "      <th>i94bir</th>\n",
       "      <th>i94visa</th>\n",
       "      <th>gender</th>\n",
       "      <th>airline</th>\n",
       "      <th>fltno</th>\n",
       "      <th>visatype</th>\n",
       "      <th>new_i94cit</th>\n",
       "      <th>new_i94res</th>\n",
       "      <th>new_i94port</th>\n",
       "      <th>new_i94mode</th>\n",
       "      <th>new_i94addr</th>\n",
       "      <th>new_i94visa</th>\n",
       "    </tr>\n",
       "  </thead>\n",
       "  <tbody>\n",
       "    <tr>\n",
       "      <th>0</th>\n",
       "      <td>245.0</td>\n",
       "      <td>438.0</td>\n",
       "      <td>LOS</td>\n",
       "      <td>20574.0</td>\n",
       "      <td>1.0</td>\n",
       "      <td>CA</td>\n",
       "      <td>20582.0</td>\n",
       "      <td>40.0</td>\n",
       "      <td>1.0</td>\n",
       "      <td>F</td>\n",
       "      <td>QF</td>\n",
       "      <td>00011</td>\n",
       "      <td>B1</td>\n",
       "      <td>CHINA, PRC</td>\n",
       "      <td>AUSTRALIA</td>\n",
       "      <td>LOS ANGELES, CA</td>\n",
       "      <td>Air</td>\n",
       "      <td>CALIFORNIA</td>\n",
       "      <td>Business</td>\n",
       "    </tr>\n",
       "    <tr>\n",
       "      <th>1</th>\n",
       "      <td>245.0</td>\n",
       "      <td>438.0</td>\n",
       "      <td>LOS</td>\n",
       "      <td>20574.0</td>\n",
       "      <td>1.0</td>\n",
       "      <td>NV</td>\n",
       "      <td>20591.0</td>\n",
       "      <td>32.0</td>\n",
       "      <td>1.0</td>\n",
       "      <td>F</td>\n",
       "      <td>VA</td>\n",
       "      <td>00007</td>\n",
       "      <td>B1</td>\n",
       "      <td>CHINA, PRC</td>\n",
       "      <td>AUSTRALIA</td>\n",
       "      <td>LOS ANGELES, CA</td>\n",
       "      <td>Air</td>\n",
       "      <td>NEVADA</td>\n",
       "      <td>Business</td>\n",
       "    </tr>\n",
       "    <tr>\n",
       "      <th>2</th>\n",
       "      <td>245.0</td>\n",
       "      <td>438.0</td>\n",
       "      <td>LOS</td>\n",
       "      <td>20574.0</td>\n",
       "      <td>1.0</td>\n",
       "      <td>WA</td>\n",
       "      <td>20582.0</td>\n",
       "      <td>29.0</td>\n",
       "      <td>1.0</td>\n",
       "      <td>M</td>\n",
       "      <td>DL</td>\n",
       "      <td>00040</td>\n",
       "      <td>B1</td>\n",
       "      <td>CHINA, PRC</td>\n",
       "      <td>AUSTRALIA</td>\n",
       "      <td>LOS ANGELES, CA</td>\n",
       "      <td>Air</td>\n",
       "      <td>WASHINGTON</td>\n",
       "      <td>Business</td>\n",
       "    </tr>\n",
       "    <tr>\n",
       "      <th>3</th>\n",
       "      <td>245.0</td>\n",
       "      <td>438.0</td>\n",
       "      <td>LOS</td>\n",
       "      <td>20574.0</td>\n",
       "      <td>1.0</td>\n",
       "      <td>WA</td>\n",
       "      <td>20588.0</td>\n",
       "      <td>29.0</td>\n",
       "      <td>1.0</td>\n",
       "      <td>F</td>\n",
       "      <td>DL</td>\n",
       "      <td>00040</td>\n",
       "      <td>B1</td>\n",
       "      <td>CHINA, PRC</td>\n",
       "      <td>AUSTRALIA</td>\n",
       "      <td>LOS ANGELES, CA</td>\n",
       "      <td>Air</td>\n",
       "      <td>WASHINGTON</td>\n",
       "      <td>Business</td>\n",
       "    </tr>\n",
       "    <tr>\n",
       "      <th>4</th>\n",
       "      <td>245.0</td>\n",
       "      <td>438.0</td>\n",
       "      <td>LOS</td>\n",
       "      <td>20574.0</td>\n",
       "      <td>1.0</td>\n",
       "      <td>WA</td>\n",
       "      <td>20588.0</td>\n",
       "      <td>28.0</td>\n",
       "      <td>1.0</td>\n",
       "      <td>M</td>\n",
       "      <td>DL</td>\n",
       "      <td>00040</td>\n",
       "      <td>B1</td>\n",
       "      <td>CHINA, PRC</td>\n",
       "      <td>AUSTRALIA</td>\n",
       "      <td>LOS ANGELES, CA</td>\n",
       "      <td>Air</td>\n",
       "      <td>WASHINGTON</td>\n",
       "      <td>Business</td>\n",
       "    </tr>\n",
       "  </tbody>\n",
       "</table>\n",
       "</div>"
      ],
      "text/plain": [
       "   i94cit  i94res i94port  arrdate  i94mode i94addr  depdate  i94bir  i94visa  \\\n",
       "0   245.0   438.0     LOS  20574.0      1.0      CA  20582.0    40.0      1.0   \n",
       "1   245.0   438.0     LOS  20574.0      1.0      NV  20591.0    32.0      1.0   \n",
       "2   245.0   438.0     LOS  20574.0      1.0      WA  20582.0    29.0      1.0   \n",
       "3   245.0   438.0     LOS  20574.0      1.0      WA  20588.0    29.0      1.0   \n",
       "4   245.0   438.0     LOS  20574.0      1.0      WA  20588.0    28.0      1.0   \n",
       "\n",
       "  gender airline  fltno visatype    new_i94cit   new_i94res  \\\n",
       "0      F      QF  00011       B1   CHINA, PRC    AUSTRALIA    \n",
       "1      F      VA  00007       B1   CHINA, PRC    AUSTRALIA    \n",
       "2      M      DL  00040       B1   CHINA, PRC    AUSTRALIA    \n",
       "3      F      DL  00040       B1   CHINA, PRC    AUSTRALIA    \n",
       "4      M      DL  00040       B1   CHINA, PRC    AUSTRALIA    \n",
       "\n",
       "               new_i94port new_i94mode  new_i94addr new_i94visa  \n",
       "0  LOS ANGELES, CA                Air   CALIFORNIA    Business   \n",
       "1  LOS ANGELES, CA                Air       NEVADA    Business   \n",
       "2  LOS ANGELES, CA                Air   WASHINGTON    Business   \n",
       "3  LOS ANGELES, CA                Air   WASHINGTON    Business   \n",
       "4  LOS ANGELES, CA                Air   WASHINGTON    Business   "
      ]
     },
     "execution_count": 44,
     "metadata": {},
     "output_type": "execute_result"
    }
   ],
   "source": [
    "fact_table.limit(5).toPandas().head()"
   ]
  },
  {
   "cell_type": "code",
   "execution_count": 45,
   "metadata": {
    "editable": true
   },
   "outputs": [],
   "source": [
    "# 5. Combine the demographics_population table with the demographics_race and the airport table as a dimensional_table.\n",
    "dimensional_table = demographics_popultation.join(demographics_race,demographics_popultation[\"State Code\"]==demographics_race[\"State Code Race\"],\"left\")\n",
    "dimensional_table =dimensional_table.join(airports,dimensional_table[\"State Code\"]==airports[\"iso_region\"],\"left\")\n",
    "dimensional_table = dimensional_table.drop(\"State Code Race\",\"iso_region\")"
   ]
  },
  {
   "cell_type": "code",
   "execution_count": 46,
   "metadata": {
    "editable": true
   },
   "outputs": [
    {
     "data": {
      "text/html": [
       "<div>\n",
       "<style scoped>\n",
       "    .dataframe tbody tr th:only-of-type {\n",
       "        vertical-align: middle;\n",
       "    }\n",
       "\n",
       "    .dataframe tbody tr th {\n",
       "        vertical-align: top;\n",
       "    }\n",
       "\n",
       "    .dataframe thead th {\n",
       "        text-align: right;\n",
       "    }\n",
       "</style>\n",
       "<table border=\"1\" class=\"dataframe\">\n",
       "  <thead>\n",
       "    <tr style=\"text-align: right;\">\n",
       "      <th></th>\n",
       "      <th>State Code</th>\n",
       "      <th>State</th>\n",
       "      <th>Average Median Age</th>\n",
       "      <th>Male Population</th>\n",
       "      <th>Female Population</th>\n",
       "      <th>Total Population</th>\n",
       "      <th>Number of Veterans</th>\n",
       "      <th>Foreign-born</th>\n",
       "      <th>Average Household Size</th>\n",
       "      <th>State</th>\n",
       "      <th>...</th>\n",
       "      <th>Black or African-American</th>\n",
       "      <th>Hispanic or Latino</th>\n",
       "      <th>White</th>\n",
       "      <th>balloonport</th>\n",
       "      <th>closed</th>\n",
       "      <th>heliport</th>\n",
       "      <th>large_airport</th>\n",
       "      <th>medium_airport</th>\n",
       "      <th>seaplane_base</th>\n",
       "      <th>small_airport</th>\n",
       "    </tr>\n",
       "  </thead>\n",
       "  <tbody>\n",
       "    <tr>\n",
       "      <th>0</th>\n",
       "      <td>MT</td>\n",
       "      <td>Montana</td>\n",
       "      <td>36.0</td>\n",
       "      <td>87707</td>\n",
       "      <td>93587</td>\n",
       "      <td>181294</td>\n",
       "      <td>13854</td>\n",
       "      <td>5977</td>\n",
       "      <td>2.28</td>\n",
       "      <td>Montana</td>\n",
       "      <td>...</td>\n",
       "      <td>3349</td>\n",
       "      <td>10000</td>\n",
       "      <td>169026</td>\n",
       "      <td>0</td>\n",
       "      <td>32</td>\n",
       "      <td>41</td>\n",
       "      <td>1</td>\n",
       "      <td>16</td>\n",
       "      <td>3</td>\n",
       "      <td>238</td>\n",
       "    </tr>\n",
       "    <tr>\n",
       "      <th>1</th>\n",
       "      <td>NC</td>\n",
       "      <td>North Carolina</td>\n",
       "      <td>34.0</td>\n",
       "      <td>1322322</td>\n",
       "      <td>1448219</td>\n",
       "      <td>2770541</td>\n",
       "      <td>133436</td>\n",
       "      <td>357617</td>\n",
       "      <td>2.45</td>\n",
       "      <td>North Carolina</td>\n",
       "      <td>...</td>\n",
       "      <td>1029446</td>\n",
       "      <td>354409</td>\n",
       "      <td>1790136</td>\n",
       "      <td>1</td>\n",
       "      <td>11</td>\n",
       "      <td>111</td>\n",
       "      <td>5</td>\n",
       "      <td>15</td>\n",
       "      <td>1</td>\n",
       "      <td>329</td>\n",
       "    </tr>\n",
       "    <tr>\n",
       "      <th>2</th>\n",
       "      <td>MD</td>\n",
       "      <td>Maryland</td>\n",
       "      <td>36.0</td>\n",
       "      <td>627951</td>\n",
       "      <td>684178</td>\n",
       "      <td>1312129</td>\n",
       "      <td>64143</td>\n",
       "      <td>229794</td>\n",
       "      <td>2.66</td>\n",
       "      <td>Maryland</td>\n",
       "      <td>...</td>\n",
       "      <td>573768</td>\n",
       "      <td>138644</td>\n",
       "      <td>594522</td>\n",
       "      <td>0</td>\n",
       "      <td>15</td>\n",
       "      <td>80</td>\n",
       "      <td>2</td>\n",
       "      <td>6</td>\n",
       "      <td>1</td>\n",
       "      <td>149</td>\n",
       "    </tr>\n",
       "    <tr>\n",
       "      <th>3</th>\n",
       "      <td>CO</td>\n",
       "      <td>Colorado</td>\n",
       "      <td>36.0</td>\n",
       "      <td>1276720</td>\n",
       "      <td>1300079</td>\n",
       "      <td>2576799</td>\n",
       "      <td>162738</td>\n",
       "      <td>271815</td>\n",
       "      <td>2.54</td>\n",
       "      <td>Colorado</td>\n",
       "      <td>...</td>\n",
       "      <td>208043</td>\n",
       "      <td>703722</td>\n",
       "      <td>2463916</td>\n",
       "      <td>1</td>\n",
       "      <td>19</td>\n",
       "      <td>195</td>\n",
       "      <td>1</td>\n",
       "      <td>11</td>\n",
       "      <td>1</td>\n",
       "      <td>277</td>\n",
       "    </tr>\n",
       "    <tr>\n",
       "      <th>4</th>\n",
       "      <td>CT</td>\n",
       "      <td>Connecticut</td>\n",
       "      <td>34.0</td>\n",
       "      <td>391277</td>\n",
       "      <td>405821</td>\n",
       "      <td>797098</td>\n",
       "      <td>22076</td>\n",
       "      <td>203538</td>\n",
       "      <td>2.66</td>\n",
       "      <td>Connecticut</td>\n",
       "      <td>...</td>\n",
       "      <td>231822</td>\n",
       "      <td>309992</td>\n",
       "      <td>505674</td>\n",
       "      <td>1</td>\n",
       "      <td>6</td>\n",
       "      <td>96</td>\n",
       "      <td>1</td>\n",
       "      <td>4</td>\n",
       "      <td>3</td>\n",
       "      <td>51</td>\n",
       "    </tr>\n",
       "  </tbody>\n",
       "</table>\n",
       "<p>5 rows × 22 columns</p>\n",
       "</div>"
      ],
      "text/plain": [
       "  State Code           State  Average Median Age  Male Population  \\\n",
       "0         MT         Montana                36.0            87707   \n",
       "1         NC  North Carolina                34.0          1322322   \n",
       "2         MD        Maryland                36.0           627951   \n",
       "3         CO        Colorado                36.0          1276720   \n",
       "4         CT     Connecticut                34.0           391277   \n",
       "\n",
       "   Female Population  Total Population  Number of Veterans  Foreign-born  \\\n",
       "0              93587            181294               13854          5977   \n",
       "1            1448219           2770541              133436        357617   \n",
       "2             684178           1312129               64143        229794   \n",
       "3            1300079           2576799              162738        271815   \n",
       "4             405821            797098               22076        203538   \n",
       "\n",
       "   Average Household Size           State      ...        \\\n",
       "0                    2.28         Montana      ...         \n",
       "1                    2.45  North Carolina      ...         \n",
       "2                    2.66        Maryland      ...         \n",
       "3                    2.54        Colorado      ...         \n",
       "4                    2.66     Connecticut      ...         \n",
       "\n",
       "   Black or African-American  Hispanic or Latino    White  balloonport  \\\n",
       "0                       3349               10000   169026            0   \n",
       "1                    1029446              354409  1790136            1   \n",
       "2                     573768              138644   594522            0   \n",
       "3                     208043              703722  2463916            1   \n",
       "4                     231822              309992   505674            1   \n",
       "\n",
       "   closed  heliport  large_airport  medium_airport  seaplane_base  \\\n",
       "0      32        41              1              16              3   \n",
       "1      11       111              5              15              1   \n",
       "2      15        80              2               6              1   \n",
       "3      19       195              1              11              1   \n",
       "4       6        96              1               4              3   \n",
       "\n",
       "   small_airport  \n",
       "0            238  \n",
       "1            329  \n",
       "2            149  \n",
       "3            277  \n",
       "4             51  \n",
       "\n",
       "[5 rows x 22 columns]"
      ]
     },
     "execution_count": 46,
     "metadata": {},
     "output_type": "execute_result"
    }
   ],
   "source": [
    "dimensional_table.limit(5).toPandas().head()"
   ]
  },
  {
   "cell_type": "code",
   "execution_count": 49,
   "metadata": {
    "editable": true
   },
   "outputs": [],
   "source": [
    "# 6. Integrate the fact_table with the dimensional_table.\n",
    "immigrants_df = fact_table.join(dimensional_table,fact_table[\"i94addr\"] == dimensional_table[\"State Code\"],\"left\")\n",
    "immigrants_df = fact_table.drop(\"State Code\",\"State\")"
   ]
  },
  {
   "cell_type": "code",
   "execution_count": 50,
   "metadata": {
    "editable": true
   },
   "outputs": [
    {
     "data": {
      "text/html": [
       "<div>\n",
       "<style scoped>\n",
       "    .dataframe tbody tr th:only-of-type {\n",
       "        vertical-align: middle;\n",
       "    }\n",
       "\n",
       "    .dataframe tbody tr th {\n",
       "        vertical-align: top;\n",
       "    }\n",
       "\n",
       "    .dataframe thead th {\n",
       "        text-align: right;\n",
       "    }\n",
       "</style>\n",
       "<table border=\"1\" class=\"dataframe\">\n",
       "  <thead>\n",
       "    <tr style=\"text-align: right;\">\n",
       "      <th></th>\n",
       "      <th>i94cit</th>\n",
       "      <th>i94res</th>\n",
       "      <th>i94port</th>\n",
       "      <th>arrdate</th>\n",
       "      <th>i94mode</th>\n",
       "      <th>i94addr</th>\n",
       "      <th>depdate</th>\n",
       "      <th>i94bir</th>\n",
       "      <th>i94visa</th>\n",
       "      <th>gender</th>\n",
       "      <th>airline</th>\n",
       "      <th>fltno</th>\n",
       "      <th>visatype</th>\n",
       "      <th>new_i94cit</th>\n",
       "      <th>new_i94res</th>\n",
       "      <th>new_i94port</th>\n",
       "      <th>new_i94mode</th>\n",
       "      <th>new_i94addr</th>\n",
       "      <th>new_i94visa</th>\n",
       "    </tr>\n",
       "  </thead>\n",
       "  <tbody>\n",
       "    <tr>\n",
       "      <th>0</th>\n",
       "      <td>245.0</td>\n",
       "      <td>438.0</td>\n",
       "      <td>LOS</td>\n",
       "      <td>20574.0</td>\n",
       "      <td>1.0</td>\n",
       "      <td>CA</td>\n",
       "      <td>20582.0</td>\n",
       "      <td>40.0</td>\n",
       "      <td>1.0</td>\n",
       "      <td>F</td>\n",
       "      <td>QF</td>\n",
       "      <td>00011</td>\n",
       "      <td>B1</td>\n",
       "      <td>CHINA, PRC</td>\n",
       "      <td>AUSTRALIA</td>\n",
       "      <td>LOS ANGELES, CA</td>\n",
       "      <td>Air</td>\n",
       "      <td>CALIFORNIA</td>\n",
       "      <td>Business</td>\n",
       "    </tr>\n",
       "    <tr>\n",
       "      <th>1</th>\n",
       "      <td>245.0</td>\n",
       "      <td>438.0</td>\n",
       "      <td>LOS</td>\n",
       "      <td>20574.0</td>\n",
       "      <td>1.0</td>\n",
       "      <td>NV</td>\n",
       "      <td>20591.0</td>\n",
       "      <td>32.0</td>\n",
       "      <td>1.0</td>\n",
       "      <td>F</td>\n",
       "      <td>VA</td>\n",
       "      <td>00007</td>\n",
       "      <td>B1</td>\n",
       "      <td>CHINA, PRC</td>\n",
       "      <td>AUSTRALIA</td>\n",
       "      <td>LOS ANGELES, CA</td>\n",
       "      <td>Air</td>\n",
       "      <td>NEVADA</td>\n",
       "      <td>Business</td>\n",
       "    </tr>\n",
       "    <tr>\n",
       "      <th>2</th>\n",
       "      <td>245.0</td>\n",
       "      <td>438.0</td>\n",
       "      <td>LOS</td>\n",
       "      <td>20574.0</td>\n",
       "      <td>1.0</td>\n",
       "      <td>WA</td>\n",
       "      <td>20582.0</td>\n",
       "      <td>29.0</td>\n",
       "      <td>1.0</td>\n",
       "      <td>M</td>\n",
       "      <td>DL</td>\n",
       "      <td>00040</td>\n",
       "      <td>B1</td>\n",
       "      <td>CHINA, PRC</td>\n",
       "      <td>AUSTRALIA</td>\n",
       "      <td>LOS ANGELES, CA</td>\n",
       "      <td>Air</td>\n",
       "      <td>WASHINGTON</td>\n",
       "      <td>Business</td>\n",
       "    </tr>\n",
       "    <tr>\n",
       "      <th>3</th>\n",
       "      <td>245.0</td>\n",
       "      <td>438.0</td>\n",
       "      <td>LOS</td>\n",
       "      <td>20574.0</td>\n",
       "      <td>1.0</td>\n",
       "      <td>WA</td>\n",
       "      <td>20588.0</td>\n",
       "      <td>29.0</td>\n",
       "      <td>1.0</td>\n",
       "      <td>F</td>\n",
       "      <td>DL</td>\n",
       "      <td>00040</td>\n",
       "      <td>B1</td>\n",
       "      <td>CHINA, PRC</td>\n",
       "      <td>AUSTRALIA</td>\n",
       "      <td>LOS ANGELES, CA</td>\n",
       "      <td>Air</td>\n",
       "      <td>WASHINGTON</td>\n",
       "      <td>Business</td>\n",
       "    </tr>\n",
       "    <tr>\n",
       "      <th>4</th>\n",
       "      <td>245.0</td>\n",
       "      <td>438.0</td>\n",
       "      <td>LOS</td>\n",
       "      <td>20574.0</td>\n",
       "      <td>1.0</td>\n",
       "      <td>WA</td>\n",
       "      <td>20588.0</td>\n",
       "      <td>28.0</td>\n",
       "      <td>1.0</td>\n",
       "      <td>M</td>\n",
       "      <td>DL</td>\n",
       "      <td>00040</td>\n",
       "      <td>B1</td>\n",
       "      <td>CHINA, PRC</td>\n",
       "      <td>AUSTRALIA</td>\n",
       "      <td>LOS ANGELES, CA</td>\n",
       "      <td>Air</td>\n",
       "      <td>WASHINGTON</td>\n",
       "      <td>Business</td>\n",
       "    </tr>\n",
       "  </tbody>\n",
       "</table>\n",
       "</div>"
      ],
      "text/plain": [
       "   i94cit  i94res i94port  arrdate  i94mode i94addr  depdate  i94bir  i94visa  \\\n",
       "0   245.0   438.0     LOS  20574.0      1.0      CA  20582.0    40.0      1.0   \n",
       "1   245.0   438.0     LOS  20574.0      1.0      NV  20591.0    32.0      1.0   \n",
       "2   245.0   438.0     LOS  20574.0      1.0      WA  20582.0    29.0      1.0   \n",
       "3   245.0   438.0     LOS  20574.0      1.0      WA  20588.0    29.0      1.0   \n",
       "4   245.0   438.0     LOS  20574.0      1.0      WA  20588.0    28.0      1.0   \n",
       "\n",
       "  gender airline  fltno visatype    new_i94cit   new_i94res  \\\n",
       "0      F      QF  00011       B1   CHINA, PRC    AUSTRALIA    \n",
       "1      F      VA  00007       B1   CHINA, PRC    AUSTRALIA    \n",
       "2      M      DL  00040       B1   CHINA, PRC    AUSTRALIA    \n",
       "3      F      DL  00040       B1   CHINA, PRC    AUSTRALIA    \n",
       "4      M      DL  00040       B1   CHINA, PRC    AUSTRALIA    \n",
       "\n",
       "               new_i94port new_i94mode  new_i94addr new_i94visa  \n",
       "0  LOS ANGELES, CA                Air   CALIFORNIA    Business   \n",
       "1  LOS ANGELES, CA                Air       NEVADA    Business   \n",
       "2  LOS ANGELES, CA                Air   WASHINGTON    Business   \n",
       "3  LOS ANGELES, CA                Air   WASHINGTON    Business   \n",
       "4  LOS ANGELES, CA                Air   WASHINGTON    Business   "
      ]
     },
     "execution_count": 50,
     "metadata": {},
     "output_type": "execute_result"
    }
   ],
   "source": [
    "immigrants_df.limit(5).toPandas().head()"
   ]
  },
  {
   "cell_type": "code",
   "execution_count": 51,
   "metadata": {
    "editable": true
   },
   "outputs": [],
   "source": [
    "clean_names = {\n",
    "    'i94cit':'code_cit',\n",
    "    'i94res':'code_res',\n",
    "    'i94port':'code_port',\n",
    "    'arrdate':'arr_date',\n",
    "    'i94mode':'code_mode',\n",
    "    'i94addr':'code_addr',\n",
    "    'depdate':'dep_date',\n",
    "    'i94bir':'bir',\n",
    "    'i94visa':'code_visa',\n",
    "    'biryear':'bir_year',\n",
    "    'gender':'gender',\n",
    "    'airline':'airline',\n",
    "    'fltno':'flt_no',\n",
    "    'visatype':'visa_type',\n",
    "    'new_i94cit':'cit',\n",
    "    'new_i94res':'res',\n",
    "    'new_i94port':'port',\n",
    "    'new_i94mode':'mode',\n",
    "    'new_i94addr':'addr',\n",
    "    'new_i94visa':'visa',\n",
    "    'Average Median Age':'average_median_age',\n",
    "    'Male Population':'male_population',\n",
    "    'Female Population':'female_population',\n",
    "    'Total Population':'total_population',\n",
    "    'Number of Veterans':'number_veterans',\n",
    "    'Foreign-born':'foreign_born',\n",
    "    'Average Household Size':'average_household_size',\n",
    "    'American Indian and Alaska Native':'american_indian_alaska_native',\n",
    "    'Asian':'asian',\n",
    "    'Black or African-American':'black_african_american',\n",
    "    'Hispanic or Latino':'hispanic_latino',\n",
    "    'White':'white',\n",
    "    'iso_region':'region',\n",
    "    'balloonport':'balloon_port',\n",
    "    'closed':'closed',\n",
    "    'heliport':'heliport',\n",
    "    'large_airport':'large_airport',\n",
    "    'medium_airport':'medium_airport',\n",
    "    'seaplane_base':'seaplane_base',\n",
    "    'small_airport':'small_airport'\n",
    "}"
   ]
  },
  {
   "cell_type": "code",
   "execution_count": 52,
   "metadata": {
    "editable": true
   },
   "outputs": [],
   "source": [
    "for var in immigrants_df.columns:\n",
    "    immigrants_df = immigrants_df.withColumnRenamed(var,clean_names[var])"
   ]
  },
  {
   "cell_type": "markdown",
   "metadata": {
    "editable": true
   },
   "source": [
    "#### 4.2 Data Quality Checks\n",
    "Explain the data quality checks you'll perform to ensure the pipeline ran as expected. These could include:\n",
    " * Integrity constraints on the relational database (e.g., unique key, data type, etc.)\n",
    " * Unit tests for the scripts to ensure they are doing the right thing\n",
    " * Source/Count checks to ensure completeness\n",
    " \n",
    "Run Quality Checks"
   ]
  },
  {
   "cell_type": "markdown",
   "metadata": {
    "editable": true
   },
   "source": [
    "- **Integrity constraints on the relational database (e.g., unique key, data type, etc.)** : in the EDA process the dimensional tables were created by droping duplicates and grouping by keys."
   ]
  },
  {
   "cell_type": "markdown",
   "metadata": {
    "editable": true
   },
   "source": [
    "- **Unit tests for the scripts to ensure they are doing the right thing**: Most of the repetitive processes were converted into functions and tested multiple times until a functional result was obtained."
   ]
  },
  {
   "cell_type": "markdown",
   "metadata": {
    "editable": true
   },
   "source": [
    "- **Source/Count checks to ensure completeness**: we run the EDA function to verify completeness (No null values per column)."
   ]
  },
  {
   "cell_type": "code",
   "execution_count": 53,
   "metadata": {
    "editable": true
   },
   "outputs": [
    {
     "data": {
      "text/html": [
       "<div>\n",
       "<style scoped>\n",
       "    .dataframe tbody tr th:only-of-type {\n",
       "        vertical-align: middle;\n",
       "    }\n",
       "\n",
       "    .dataframe tbody tr th {\n",
       "        vertical-align: top;\n",
       "    }\n",
       "\n",
       "    .dataframe thead th {\n",
       "        text-align: right;\n",
       "    }\n",
       "</style>\n",
       "<table border=\"1\" class=\"dataframe\">\n",
       "  <thead>\n",
       "    <tr style=\"text-align: right;\">\n",
       "      <th>summary</th>\n",
       "      <th>count</th>\n",
       "      <th>mean</th>\n",
       "      <th>stddev</th>\n",
       "      <th>min</th>\n",
       "      <th>25%</th>\n",
       "      <th>50%</th>\n",
       "      <th>75%</th>\n",
       "      <th>max</th>\n",
       "      <th>nulls</th>\n",
       "      <th>% nulls</th>\n",
       "    </tr>\n",
       "  </thead>\n",
       "  <tbody>\n",
       "    <tr>\n",
       "      <th>code_cit</th>\n",
       "      <td>2943721</td>\n",
       "      <td>304.1294307442859</td>\n",
       "      <td>210.93340516818026</td>\n",
       "      <td>101.0</td>\n",
       "      <td>135.0</td>\n",
       "      <td>213.0</td>\n",
       "      <td>512.0</td>\n",
       "      <td>999.0</td>\n",
       "      <td>0</td>\n",
       "      <td>0.000000</td>\n",
       "    </tr>\n",
       "    <tr>\n",
       "      <th>code_res</th>\n",
       "      <td>2943721</td>\n",
       "      <td>302.43081834181976</td>\n",
       "      <td>209.53752745145655</td>\n",
       "      <td>101.0</td>\n",
       "      <td>131.0</td>\n",
       "      <td>213.0</td>\n",
       "      <td>509.0</td>\n",
       "      <td>760.0</td>\n",
       "      <td>0</td>\n",
       "      <td>0.000000</td>\n",
       "    </tr>\n",
       "    <tr>\n",
       "      <th>code_port</th>\n",
       "      <td>2943721</td>\n",
       "      <td>None</td>\n",
       "      <td>None</td>\n",
       "      <td>5KE</td>\n",
       "      <td>None</td>\n",
       "      <td>None</td>\n",
       "      <td>None</td>\n",
       "      <td>YSL</td>\n",
       "      <td>0</td>\n",
       "      <td>0.000000</td>\n",
       "    </tr>\n",
       "    <tr>\n",
       "      <th>arr_date</th>\n",
       "      <td>2943721</td>\n",
       "      <td>20559.843950224902</td>\n",
       "      <td>8.776730783982536</td>\n",
       "      <td>20545.0</td>\n",
       "      <td>20552.0</td>\n",
       "      <td>20560.0</td>\n",
       "      <td>20567.0</td>\n",
       "      <td>20574.0</td>\n",
       "      <td>0</td>\n",
       "      <td>0.000000</td>\n",
       "    </tr>\n",
       "    <tr>\n",
       "      <th>code_mode</th>\n",
       "      <td>2943721</td>\n",
       "      <td>1.0541477945769997</td>\n",
       "      <td>0.4522191352762033</td>\n",
       "      <td>1.0</td>\n",
       "      <td>1.0</td>\n",
       "      <td>1.0</td>\n",
       "      <td>1.0</td>\n",
       "      <td>9.0</td>\n",
       "      <td>0</td>\n",
       "      <td>0.000000</td>\n",
       "    </tr>\n",
       "    <tr>\n",
       "      <th>code_addr</th>\n",
       "      <td>2943721</td>\n",
       "      <td>51.652482269503544</td>\n",
       "      <td>42.97906231370983</td>\n",
       "      <td>..</td>\n",
       "      <td>10.0</td>\n",
       "      <td>40.0</td>\n",
       "      <td>99.0</td>\n",
       "      <td>ZU</td>\n",
       "      <td>0</td>\n",
       "      <td>0.000000</td>\n",
       "    </tr>\n",
       "    <tr>\n",
       "      <th>dep_date</th>\n",
       "      <td>2817737</td>\n",
       "      <td>20574.148197294497</td>\n",
       "      <td>29.624023124568698</td>\n",
       "      <td>15176.0</td>\n",
       "      <td>20561.0</td>\n",
       "      <td>20570.0</td>\n",
       "      <td>20579.0</td>\n",
       "      <td>45427.0</td>\n",
       "      <td>125984</td>\n",
       "      <td>4.279753</td>\n",
       "    </tr>\n",
       "    <tr>\n",
       "      <th>bir</th>\n",
       "      <td>2943332</td>\n",
       "      <td>41.7599608199143</td>\n",
       "      <td>17.392602789302135</td>\n",
       "      <td>0.0</td>\n",
       "      <td>30.0</td>\n",
       "      <td>41.0</td>\n",
       "      <td>54.0</td>\n",
       "      <td>114.0</td>\n",
       "      <td>389</td>\n",
       "      <td>0.013215</td>\n",
       "    </tr>\n",
       "    <tr>\n",
       "      <th>code_visa</th>\n",
       "      <td>2943721</td>\n",
       "      <td>1.8424704651018218</td>\n",
       "      <td>0.40006697235340466</td>\n",
       "      <td>1.0</td>\n",
       "      <td>2.0</td>\n",
       "      <td>2.0</td>\n",
       "      <td>2.0</td>\n",
       "      <td>3.0</td>\n",
       "      <td>0</td>\n",
       "      <td>0.000000</td>\n",
       "    </tr>\n",
       "    <tr>\n",
       "      <th>gender</th>\n",
       "      <td>2551402</td>\n",
       "      <td>None</td>\n",
       "      <td>None</td>\n",
       "      <td>F</td>\n",
       "      <td>None</td>\n",
       "      <td>None</td>\n",
       "      <td>None</td>\n",
       "      <td>X</td>\n",
       "      <td>392319</td>\n",
       "      <td>13.327316</td>\n",
       "    </tr>\n",
       "    <tr>\n",
       "      <th>airline</th>\n",
       "      <td>2884535</td>\n",
       "      <td>52.3700939080183</td>\n",
       "      <td>165.5333618162708</td>\n",
       "      <td>*FF</td>\n",
       "      <td>2.0</td>\n",
       "      <td>2.0</td>\n",
       "      <td>2.0</td>\n",
       "      <td>ZZ</td>\n",
       "      <td>59186</td>\n",
       "      <td>2.010585</td>\n",
       "    </tr>\n",
       "    <tr>\n",
       "      <th>flt_no</th>\n",
       "      <td>2930975</td>\n",
       "      <td>1075.690765836244</td>\n",
       "      <td>3290.290505674605</td>\n",
       "      <td>00000</td>\n",
       "      <td>100.0</td>\n",
       "      <td>402.0</td>\n",
       "      <td>901.0</td>\n",
       "      <td>ZZZ</td>\n",
       "      <td>12746</td>\n",
       "      <td>0.432989</td>\n",
       "    </tr>\n",
       "    <tr>\n",
       "      <th>visa_type</th>\n",
       "      <td>2943721</td>\n",
       "      <td>None</td>\n",
       "      <td>None</td>\n",
       "      <td>B1</td>\n",
       "      <td>None</td>\n",
       "      <td>None</td>\n",
       "      <td>None</td>\n",
       "      <td>WT</td>\n",
       "      <td>0</td>\n",
       "      <td>0.000000</td>\n",
       "    </tr>\n",
       "    <tr>\n",
       "      <th>cit</th>\n",
       "      <td>2582428</td>\n",
       "      <td>None</td>\n",
       "      <td>None</td>\n",
       "      <td>AFGHANISTAN</td>\n",
       "      <td>None</td>\n",
       "      <td>None</td>\n",
       "      <td>None</td>\n",
       "      <td>ZIMBABWE</td>\n",
       "      <td>361293</td>\n",
       "      <td>12.273344</td>\n",
       "    </tr>\n",
       "    <tr>\n",
       "      <th>res</th>\n",
       "      <td>2943721</td>\n",
       "      <td>None</td>\n",
       "      <td>None</td>\n",
       "      <td>AFGHANISTAN</td>\n",
       "      <td>None</td>\n",
       "      <td>None</td>\n",
       "      <td>None</td>\n",
       "      <td>ZIMBABWE</td>\n",
       "      <td>0</td>\n",
       "      <td>0.000000</td>\n",
       "    </tr>\n",
       "    <tr>\n",
       "      <th>port</th>\n",
       "      <td>2943721</td>\n",
       "      <td>None</td>\n",
       "      <td>None</td>\n",
       "      <td>ADDISON AIRPORT- ADDISON, TX</td>\n",
       "      <td>None</td>\n",
       "      <td>None</td>\n",
       "      <td>None</td>\n",
       "      <td>YSLETA, TX</td>\n",
       "      <td>0</td>\n",
       "      <td>0.000000</td>\n",
       "    </tr>\n",
       "    <tr>\n",
       "      <th>mode</th>\n",
       "      <td>2943721</td>\n",
       "      <td>None</td>\n",
       "      <td>None</td>\n",
       "      <td>Air</td>\n",
       "      <td>None</td>\n",
       "      <td>None</td>\n",
       "      <td>None</td>\n",
       "      <td>Sea</td>\n",
       "      <td>0</td>\n",
       "      <td>0.000000</td>\n",
       "    </tr>\n",
       "    <tr>\n",
       "      <th>addr</th>\n",
       "      <td>2917199</td>\n",
       "      <td>None</td>\n",
       "      <td>None</td>\n",
       "      <td>ALABAMA</td>\n",
       "      <td>None</td>\n",
       "      <td>None</td>\n",
       "      <td>None</td>\n",
       "      <td>WYOMING</td>\n",
       "      <td>26522</td>\n",
       "      <td>0.900969</td>\n",
       "    </tr>\n",
       "    <tr>\n",
       "      <th>visa</th>\n",
       "      <td>2943721</td>\n",
       "      <td>None</td>\n",
       "      <td>None</td>\n",
       "      <td>Business</td>\n",
       "      <td>None</td>\n",
       "      <td>None</td>\n",
       "      <td>None</td>\n",
       "      <td>Student</td>\n",
       "      <td>0</td>\n",
       "      <td>0.000000</td>\n",
       "    </tr>\n",
       "  </tbody>\n",
       "</table>\n",
       "</div>"
      ],
      "text/plain": [
       "summary      count                mean               stddev  \\\n",
       "code_cit   2943721   304.1294307442859   210.93340516818026   \n",
       "code_res   2943721  302.43081834181976   209.53752745145655   \n",
       "code_port  2943721                None                 None   \n",
       "arr_date   2943721  20559.843950224902    8.776730783982536   \n",
       "code_mode  2943721  1.0541477945769997   0.4522191352762033   \n",
       "code_addr  2943721  51.652482269503544    42.97906231370983   \n",
       "dep_date   2817737  20574.148197294497   29.624023124568698   \n",
       "bir        2943332    41.7599608199143   17.392602789302135   \n",
       "code_visa  2943721  1.8424704651018218  0.40006697235340466   \n",
       "gender     2551402                None                 None   \n",
       "airline    2884535    52.3700939080183    165.5333618162708   \n",
       "flt_no     2930975   1075.690765836244    3290.290505674605   \n",
       "visa_type  2943721                None                 None   \n",
       "cit        2582428                None                 None   \n",
       "res        2943721                None                 None   \n",
       "port       2943721                None                 None   \n",
       "mode       2943721                None                 None   \n",
       "addr       2917199                None                 None   \n",
       "visa       2943721                None                 None   \n",
       "\n",
       "summary                              min      25%      50%      75%  \\\n",
       "code_cit                           101.0    135.0    213.0    512.0   \n",
       "code_res                           101.0    131.0    213.0    509.0   \n",
       "code_port                            5KE     None     None     None   \n",
       "arr_date                         20545.0  20552.0  20560.0  20567.0   \n",
       "code_mode                            1.0      1.0      1.0      1.0   \n",
       "code_addr                             ..     10.0     40.0     99.0   \n",
       "dep_date                         15176.0  20561.0  20570.0  20579.0   \n",
       "bir                                  0.0     30.0     41.0     54.0   \n",
       "code_visa                            1.0      2.0      2.0      2.0   \n",
       "gender                                 F     None     None     None   \n",
       "airline                              *FF      2.0      2.0      2.0   \n",
       "flt_no                             00000    100.0    402.0    901.0   \n",
       "visa_type                             B1     None     None     None   \n",
       "cit                         AFGHANISTAN      None     None     None   \n",
       "res                         AFGHANISTAN      None     None     None   \n",
       "port       ADDISON AIRPORT- ADDISON, TX      None     None     None   \n",
       "mode                                Air      None     None     None   \n",
       "addr                            ALABAMA      None     None     None   \n",
       "visa                           Business      None     None     None   \n",
       "\n",
       "summary                        max   nulls    % nulls  \n",
       "code_cit                     999.0       0   0.000000  \n",
       "code_res                     760.0       0   0.000000  \n",
       "code_port                      YSL       0   0.000000  \n",
       "arr_date                   20574.0       0   0.000000  \n",
       "code_mode                      9.0       0   0.000000  \n",
       "code_addr                       ZU       0   0.000000  \n",
       "dep_date                   45427.0  125984   4.279753  \n",
       "bir                          114.0     389   0.013215  \n",
       "code_visa                      3.0       0   0.000000  \n",
       "gender                           X  392319  13.327316  \n",
       "airline                         ZZ   59186   2.010585  \n",
       "flt_no                         ZZZ   12746   0.432989  \n",
       "visa_type                       WT       0   0.000000  \n",
       "cit                      ZIMBABWE   361293  12.273344  \n",
       "res                      ZIMBABWE        0   0.000000  \n",
       "port       YSLETA, TX                    0   0.000000  \n",
       "mode                          Sea        0   0.000000  \n",
       "addr                     WYOMING     26522   0.900969  \n",
       "visa                      Student        0   0.000000  "
      ]
     },
     "execution_count": 53,
     "metadata": {},
     "output_type": "execute_result"
    }
   ],
   "source": [
    "EDA(immigrants_df)"
   ]
  },
  {
   "cell_type": "markdown",
   "metadata": {
    "editable": true
   },
   "source": [
    "#### 4.3 Data dictionary "
   ]
  },
  {
   "cell_type": "markdown",
   "metadata": {
    "editable": true
   },
   "source": [
    "- **code_cit:** code cit.\n",
    "- **code_res:** code res.\n",
    "- **code_port:** code port.\n",
    "- **arr_date*:** arrival date.\n",
    "- **code_mode:** code mode.\n",
    "- **code_addr:** code add.\n",
    "- **dep_date:** departure date.\n",
    "- **bir:** age.\n",
    "- **code_visa:** code visa.\n",
    "- **gender:** gender description.\n",
    "- **airline:**  airline description.\n",
    "- **flt_no:** fly number.\n",
    "- **visa_type:** visa type.\n",
    "- **cit:** code cit equivalent.\n",
    "- **res:** code res equivalent.\n",
    "- **port:** code port equivalent.\n",
    "- **mode:** fly mode.\n",
    "- **addr:** code addr equivalent.\n",
    "- **visa:** visa description.\n",
    "- **average_median_age:** average median age.\n",
    "- **male_population:** male population.\n",
    "- **female_population:** female population.\n",
    "- **total_population:** total population.\n",
    "- **number_veterans:** number veterans.\n",
    "- **foreign_born:** foreign born.\n",
    "- **average_household_size:** average household size.\n",
    "- **State:** the state.\n",
    "- **american_indian_alaska_native:** number of people with race american indian alaska native.\n",
    "- **asian:** number of people with race asian.\n",
    "- **black_african_american:** number of people with race african_american.\n",
    "- **hispanic_latino:** number of people with race white.\n",
    "- **white:** number of people with race white.\n",
    "- **balloon_port:** number of airports of type balloon port.\n",
    "- **closed:** number of airports of type closed.\n",
    "- **heliport:** number of airports of type heliport.\n",
    "- **large_airport:** number of airports of type large airport.\n",
    "- **medium_airport:** number of airports of type medium_airport airport.\n",
    "- **seaplane_base:** number of airports of type seaplane base airport.\n",
    "- **small_airport:** number of airports of type small airport airport."
   ]
  },
  {
   "cell_type": "markdown",
   "metadata": {
    "editable": true
   },
   "source": [
    "#### Step 5: Complete Project Write Up"
   ]
  },
  {
   "cell_type": "markdown",
   "metadata": {
    "editable": true
   },
   "source": [
    "1. Clearly state the rationale for the choice of tools and technologies for the project:"
   ]
  },
  {
   "cell_type": "markdown",
   "metadata": {
    "editable": true
   },
   "source": [
    "- I think that the simplest the better, for that reason I do everything using spark in that way I can avoid increase the complexity of the problem an focus in what is important, the data."
   ]
  },
  {
   "cell_type": "markdown",
   "metadata": {
    "editable": true
   },
   "source": [
    "2. Propose how often the data should be updated and why:"
   ]
  },
  {
   "cell_type": "markdown",
   "metadata": {
    "editable": true
   },
   "source": [
    "- It depends on the slowest time of update of the data sources, but I think that a monthly basis update is ok, to have a control statistics about immigrants to the U.S."
   ]
  },
  {
   "cell_type": "markdown",
   "metadata": {
    "editable": true
   },
   "source": [
    "3. Write a description of how you would approach the problem differently under the following scenarios:"
   ]
  },
  {
   "cell_type": "markdown",
   "metadata": {
    "editable": true
   },
   "source": [
    "- **The data was increased by 100x:** It doesn't matter, spark is design to deal with huges amount of data, so we just need to set a cluster maybe an EMR service on AWS, to scale the capability of spark."
   ]
  },
  {
   "cell_type": "markdown",
   "metadata": {
    "editable": true
   },
   "source": [
    "- **The data populates a dashboard that must be updated on a daily basis by 7 am every day:** we have to define a chrono job that can orchestrate the full process, so airflow would be the right option and create a message error system, like python script that checks the number of rows of the table at that hour at that day,that detects when the dag fail and send a email to the technical team to correct the problem."
   ]
  },
  {
   "cell_type": "markdown",
   "metadata": {
    "editable": true
   },
   "source": [
    "- **The database needed to be accessed by 100+ people:** In this case, there is a need to use a data warehouse tool, could be Hive or Redshift, to query the data from an interface in a system with the capability to deal with this concurrence."
   ]
  },
  {
   "cell_type": "code",
   "execution_count": null,
   "metadata": {
    "editable": true
   },
   "outputs": [],
   "source": []
  }
 ],
 "metadata": {
  "kernelspec": {
   "display_name": "Python 3",
   "language": "python",
   "name": "python3"
  },
  "language_info": {
   "codemirror_mode": {
    "name": "ipython",
    "version": 3
   },
   "file_extension": ".py",
   "mimetype": "text/x-python",
   "name": "python",
   "nbconvert_exporter": "python",
   "pygments_lexer": "ipython3",
   "version": "3.6.3"
  }
 },
 "nbformat": 4,
 "nbformat_minor": 4
}
